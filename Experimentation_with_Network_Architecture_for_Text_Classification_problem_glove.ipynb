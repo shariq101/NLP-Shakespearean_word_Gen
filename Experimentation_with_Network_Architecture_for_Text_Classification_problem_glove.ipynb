{
  "cells": [
    {
      "cell_type": "markdown",
      "metadata": {
        "id": "view-in-github",
        "colab_type": "text"
      },
      "source": [
        "<a href=\"https://colab.research.google.com/github/shariq101/NLP-Shakespearean_word_Gen/blob/main/Experimentation_with_Network_Architecture_for_Text_Classification_problem_glove.ipynb\" target=\"_parent\"><img src=\"https://colab.research.google.com/assets/colab-badge.svg\" alt=\"Open In Colab\"/></a>"
      ]
    },
    {
      "cell_type": "code",
      "execution_count": null,
      "metadata": {
        "id": "Rq3TzGsc_dfS"
      },
      "outputs": [],
      "source": [
        "import numpy as np\n",
        "from sklearn.datasets import fetch_20newsgroups\n",
        "\n",
        "newsgroups_train = fetch_20newsgroups(subset='train')\n",
        "newsgroups_test = fetch_20newsgroups(subset='test')\n"
      ]
    },
    {
      "cell_type": "code",
      "execution_count": null,
      "metadata": {
        "colab": {
          "base_uri": "https://localhost:8080/"
        },
        "id": "k_Sds0DMELpX",
        "outputId": "c874f4ea-d65e-4e28-f60b-dd100a09e44b"
      },
      "outputs": [
        {
          "output_type": "stream",
          "name": "stdout",
          "text": [
            "Found 134142 unique tokens.\n"
          ]
        }
      ],
      "source": [
        "from keras.preprocessing.text import Tokenizer\n",
        "\n",
        "MAX_NB_WORDS = 20000\n",
        "\n",
        "# get the raw text data\n",
        "texts_train = newsgroups_train[\"data\"]\n",
        "texts_test = newsgroups_test[\"data\"]\n",
        "\n",
        "# finally, vectorize the text samples into a 2D integer tensor\n",
        "tokenizer = Tokenizer(num_words=MAX_NB_WORDS, char_level=False)\n",
        "tokenizer.fit_on_texts(texts_train)\n",
        "sequences = tokenizer.texts_to_sequences(texts_train)\n",
        "sequences_test = tokenizer.texts_to_sequences(texts_test)\n",
        "\n",
        "word_index = tokenizer.word_index\n",
        "print('Found %s unique tokens.' % len(word_index))\n"
      ]
    },
    {
      "cell_type": "code",
      "execution_count": null,
      "metadata": {
        "colab": {
          "base_uri": "https://localhost:8080/"
        },
        "id": "uHxGCu1iH9Kr",
        "outputId": "33b0e009-2880-4eff-9568-a93e7721828b"
      },
      "outputs": [
        {
          "output_type": "execute_result",
          "data": {
            "text/plain": [
              "[14,\n",
              " 4308,\n",
              " 1350,\n",
              " 15,\n",
              " 11126,\n",
              " 38,\n",
              " 250,\n",
              " 29,\n",
              " 42,\n",
              " 298,\n",
              " 9,\n",
              " 17,\n",
              " 95,\n",
              " 78,\n",
              " 91,\n",
              " 4308,\n",
              " 1350,\n",
              " 15,\n",
              " 34,\n",
              " 77,\n",
              " 3,\n",
              " 2952,\n",
              " 610,\n",
              " 1767,\n",
              " 32,\n",
              " 211,\n",
              " 8,\n",
              " 26,\n",
              " 1308,\n",
              " 27,\n",
              " 171,\n",
              " 66,\n",
              " 47,\n",
              " 123,\n",
              " 9879,\n",
              " 63,\n",
              " 16,\n",
              " 17,\n",
              " 298,\n",
              " 8,\n",
              " 708,\n",
              " 1,\n",
              " 86,\n",
              " 263,\n",
              " 11,\n",
              " 26,\n",
              " 4,\n",
              " 36,\n",
              " 1497,\n",
              " 2266,\n",
              " 298,\n",
              " 1162,\n",
              " 2,\n",
              " 18,\n",
              " 14,\n",
              " 1,\n",
              " 1347,\n",
              " 13637,\n",
              " 843,\n",
              " 15448,\n",
              " 11,\n",
              " 26,\n",
              " 337,\n",
              " 4,\n",
              " 1,\n",
              " 4017,\n",
              " 80,\n",
              " 182,\n",
              " 484,\n",
              " 7,\n",
              " 1376,\n",
              " 1,\n",
              " 844,\n",
              " 8164,\n",
              " 26,\n",
              " 1835,\n",
              " 14,\n",
              " 1,\n",
              " 816,\n",
              " 3,\n",
              " 1,\n",
              " 726,\n",
              " 17,\n",
              " 9,\n",
              " 44,\n",
              " 8,\n",
              " 88,\n",
              " 27,\n",
              " 171,\n",
              " 39,\n",
              " 4,\n",
              " 828,\n",
              " 273,\n",
              " 1078,\n",
              " 2908,\n",
              " 198,\n",
              " 3,\n",
              " 2804,\n",
              " 153,\n",
              " 17,\n",
              " 298,\n",
              " 9,\n",
              " 239,\n",
              " 628,\n",
              " 25,\n",
              " 808,\n",
              " 357,\n",
              " 13,\n",
              " 21,\n",
              " 16,\n",
              " 17,\n",
              " 384,\n",
              " 298,\n",
              " 181,\n",
              " 112,\n",
              " 188,\n",
              " 206,\n",
              " 1498,\n",
              " 1341,\n",
              " 2,\n",
              " 13,\n",
              " 35,\n",
              " 58,\n",
              " 7860]"
            ]
          },
          "metadata": {},
          "execution_count": 3
        }
      ],
      "source": [
        "sequences[0]"
      ]
    },
    {
      "cell_type": "code",
      "execution_count": null,
      "metadata": {
        "colab": {
          "base_uri": "https://localhost:8080/"
        },
        "id": "GGVRpM6pITve",
        "outputId": "f15b804c-487f-46c1-de89-ce45fb561620"
      },
      "outputs": [
        {
          "output_type": "execute_result",
          "data": {
            "text/plain": [
              "(dict, 134142)"
            ]
          },
          "metadata": {},
          "execution_count": 4
        }
      ],
      "source": [
        "type(tokenizer.word_index), len(tokenizer.word_index)"
      ]
    },
    {
      "cell_type": "code",
      "execution_count": null,
      "metadata": {
        "colab": {
          "base_uri": "https://localhost:8080/",
          "height": 104
        },
        "id": "yesKzs1wIaLt",
        "outputId": "be926eb6-8850-4a51-a3ac-a195fe4b70eb"
      },
      "outputs": [
        {
          "output_type": "execute_result",
          "data": {
            "text/plain": [
              "\"from wam umd edu where's my thing subject what car is this nntp posting host wam umd edu organization university of maryland college park lines 15 i was wondering if anyone out there could enlighten me on this car i saw the other day it was a 2 door sports car looked to be from the late 60s early 70s it was called a the doors were really small in addition the front bumper was separate from the rest of the body this is all i know if anyone can a model name engine specs years of production where this car is made history or whatever info you have on this looking car please e mail thanks il brought to you by your neighborhood\""
            ],
            "application/vnd.google.colaboratory.intrinsic+json": {
              "type": "string"
            }
          },
          "metadata": {},
          "execution_count": 5
        }
      ],
      "source": [
        "index_to_word = dict((i, w) for w, i in tokenizer.word_index.items())\n",
        "\n",
        "\" \".join([index_to_word[i] for i in sequences[0]])\n"
      ]
    },
    {
      "cell_type": "code",
      "execution_count": null,
      "metadata": {
        "colab": {
          "base_uri": "https://localhost:8080/",
          "height": 300
        },
        "id": "nk39znMZJgYO",
        "outputId": "d5a46ffd-1791-4b59-85c9-4a64f07b82fe"
      },
      "outputs": [
        {
          "output_type": "stream",
          "name": "stdout",
          "text": [
            "average length: 302.5\n",
            "max length: 15365\n"
          ]
        },
        {
          "output_type": "display_data",
          "data": {
            "text/plain": [
              "<Figure size 432x288 with 1 Axes>"
            ],
            "image/png": "[encoded data removed]"
          },
          "metadata": {
            "needs_background": "light"
          }
        }
      ],
      "source": [
        "\n",
        "seq_lens = [len(s) for s in sequences]\n",
        "print(\"average length: %0.1f\" % np.mean(seq_lens))\n",
        "print(\"max length: %d\" % max(seq_lens))\n",
        "\n",
        "%matplotlib inline\n",
        "import matplotlib.pyplot as plt\n",
        "\n",
        "plt.hist(seq_lens, bins=50);"
      ]
    },
    {
      "cell_type": "code",
      "execution_count": null,
      "metadata": {
        "colab": {
          "base_uri": "https://localhost:8080/",
          "height": 265
        },
        "id": "6PtjredcKTxP",
        "outputId": "e20ed83d-edf7-498c-86b9-5ce0caac0c3e"
      },
      "outputs": [
        {
          "output_type": "display_data",
          "data": {
            "text/plain": [
              "<Figure size 432x288 with 1 Axes>"
            ],
            "image/png": "[encoded data removed]"
          },
          "metadata": {
            "needs_background": "light"
          }
        }
      ],
      "source": [
        "plt.hist([l for l in seq_lens if l < 3000], bins=50);"
      ]
    },
    {
      "cell_type": "code",
      "execution_count": null,
      "metadata": {
        "colab": {
          "base_uri": "https://localhost:8080/"
        },
        "id": "qywmgz-PK1lv",
        "outputId": "ecc5f6ff-8254-4502-cc17-6b726a82d83f"
      },
      "outputs": [
        {
          "output_type": "stream",
          "name": "stdout",
          "text": [
            "Shape of data tensor: (11314, 1000)\n",
            "Shape of data test tensor: (7532, 1000)\n"
          ]
        }
      ],
      "source": [
        "from keras_preprocessing.sequence import pad_sequences\n",
        "\n",
        "\n",
        "MAX_SEQUENCE_LENGTH = 1000\n",
        "\n",
        "# pad sequences with 0s\n",
        "x_train = pad_sequences(sequences, maxlen=MAX_SEQUENCE_LENGTH)\n",
        "x_test = pad_sequences(sequences_test, maxlen=MAX_SEQUENCE_LENGTH)\n",
        "print('Shape of data tensor:', x_train.shape)\n",
        "print('Shape of data test tensor:', x_test.shape)"
      ]
    },
    {
      "cell_type": "code",
      "execution_count": null,
      "metadata": {
        "colab": {
          "base_uri": "https://localhost:8080/"
        },
        "id": "tefpE0mqLKkE",
        "outputId": "cfb10879-f7b7-4f0b-9bb0-f8b2cafc8fa1"
      },
      "outputs": [
        {
          "output_type": "stream",
          "name": "stdout",
          "text": [
            "Shape of label tensor: (11314, 20)\n"
          ]
        }
      ],
      "source": [
        "from keras.utils.np_utils import to_categorical\n",
        "y_train = newsgroups_train[\"target\"]\n",
        "y_test = newsgroups_test[\"target\"]\n",
        "\n",
        "y_train = to_categorical(np.asarray(y_train))\n",
        "print('Shape of label tensor:', y_train.shape)"
      ]
    },
    {
      "cell_type": "markdown",
      "metadata": {
        "id": "xCOkJDxVOAJ3"
      },
      "source": [
        "\n",
        "1.   Build an embedding layer mapping each word to a vector representation\n",
        "2.   Compute the vector representation of all words in each sequence and average them\n",
        "3. Add a dense layer to output 20 classes (+ softmax)"
      ]
    },
    {
      "cell_type": "code",
      "execution_count": null,
      "metadata": {
        "colab": {
          "base_uri": "https://localhost:8080/"
        },
        "id": "wH3upvzULilE",
        "outputId": "1129bd64-2e02-4cad-b079-e669a95f9c91"
      },
      "outputs": [
        {
          "output_type": "stream",
          "name": "stdout",
          "text": [
            "Model: \"sequential\"\n",
            "_________________________________________________________________\n",
            " Layer (type)                Output Shape              Param #   \n",
            "=================================================================\n",
            " embedding (Embedding)       (None, 1000, 100)         2000000   \n",
            "                                                                 \n",
            " flatten (Flatten)           (None, 100000)            0         \n",
            "                                                                 \n",
            " dense (Dense)               (None, 64)                6400064   \n",
            "                                                                 \n",
            " dense_1 (Dense)             (None, 20)                1300      \n",
            "                                                                 \n",
            "=================================================================\n",
            "Total params: 8,401,364\n",
            "Trainable params: 8,401,364\n",
            "Non-trainable params: 0\n",
            "_________________________________________________________________\n"
          ]
        }
      ],
      "source": [
        "from keras.layers import Dense, Input, Flatten, Embedding\n",
        "from keras.models import Sequential\n",
        "\n",
        "EMBEDDING_DIM = 100\n",
        "N_CLASSES = 20\n",
        "\n",
        "# input: a sequence of MAX_SEQUENCE_LENGTH integers\n",
        "\n",
        "model = Sequential()\n",
        "model.add(Embedding(MAX_NB_WORDS, EMBEDDING_DIM,\n",
        "                            input_length=MAX_SEQUENCE_LENGTH,\n",
        "                            trainable=True));\n",
        "model.add(Flatten());   \n",
        "model.add(Dense(64, activation='relu')); \n",
        "model.add(Dense(N_CLASSES, activation='softmax'));       \n",
        "model.summary()               \n",
        "\n",
        "\n",
        "model.compile(loss='categorical_crossentropy',\n",
        "              optimizer='adam', metrics=['acc'])"
      ]
    },
    {
      "cell_type": "code",
      "execution_count": null,
      "metadata": {
        "colab": {
          "base_uri": "https://localhost:8080/"
        },
        "id": "XEWy__-XT_Dr",
        "outputId": "8da44172-acc5-409d-8ef9-2606e09aa5ed"
      },
      "outputs": [
        {
          "output_type": "stream",
          "name": "stdout",
          "text": [
            "354/354 [==============================] - 4s 3ms/step - loss: 2.9967 - acc: 0.0439\n"
          ]
        },
        {
          "output_type": "execute_result",
          "data": {
            "text/plain": [
              "[2.9967002868652344, 0.0439278781414032]"
            ]
          },
          "metadata": {},
          "execution_count": 11
        }
      ],
      "source": [
        "model.evaluate(x_train,y_train)"
      ]
    },
    {
      "cell_type": "code",
      "execution_count": null,
      "metadata": {
        "id": "0G2q0hJPkefV"
      },
      "outputs": [],
      "source": [
        "model.compile(loss='categorical_crossentropy',\n",
        "              optimizer='adam', metrics=['acc'])"
      ]
    },
    {
      "cell_type": "code",
      "execution_count": null,
      "metadata": {
        "colab": {
          "base_uri": "https://localhost:8080/"
        },
        "id": "d7SdFjb0aPR1",
        "outputId": "0be69786-c661-445b-e3de-c64bb6e42fdb"
      },
      "outputs": [
        {
          "output_type": "stream",
          "name": "stdout",
          "text": [
            "Epoch 1/120\n",
            "80/80 [==============================] - 1s 11ms/step - loss: 2.9596 - acc: 0.0740 - val_loss: 2.8266 - val_acc: 0.0963\n",
            "Epoch 2/120\n",
            "80/80 [==============================] - 1s 9ms/step - loss: 2.0513 - acc: 0.3904 - val_loss: 1.4566 - val_acc: 0.5645\n",
            "Epoch 3/120\n",
            "80/80 [==============================] - 1s 9ms/step - loss: 0.5156 - acc: 0.8934 - val_loss: 0.9772 - val_acc: 0.7094\n",
            "Epoch 4/120\n",
            "80/80 [==============================] - 1s 9ms/step - loss: 0.1009 - acc: 0.9917 - val_loss: 0.8832 - val_acc: 0.7394\n",
            "Epoch 5/120\n",
            "80/80 [==============================] - 1s 9ms/step - loss: 0.0352 - acc: 0.9991 - val_loss: 0.8694 - val_acc: 0.7288\n",
            "Epoch 6/120\n",
            "80/80 [==============================] - 1s 9ms/step - loss: 0.0191 - acc: 0.9994 - val_loss: 0.8540 - val_acc: 0.7429\n",
            "Epoch 7/120\n",
            "80/80 [==============================] - 1s 9ms/step - loss: 0.0116 - acc: 0.9995 - val_loss: 0.8479 - val_acc: 0.7385\n",
            "Epoch 8/120\n",
            "80/80 [==============================] - 1s 8ms/step - loss: 0.0080 - acc: 0.9994 - val_loss: 0.8500 - val_acc: 0.7412\n",
            "Epoch 9/120\n",
            "80/80 [==============================] - 1s 9ms/step - loss: 0.0066 - acc: 0.9994 - val_loss: 0.8564 - val_acc: 0.7403\n",
            "Epoch 10/120\n",
            "80/80 [==============================] - 1s 8ms/step - loss: 0.0075 - acc: 0.9992 - val_loss: 0.8905 - val_acc: 0.7412\n",
            "Epoch 11/120\n",
            "80/80 [==============================] - 1s 8ms/step - loss: 0.0037 - acc: 0.9998 - val_loss: 0.8553 - val_acc: 0.7491\n",
            "Epoch 12/120\n",
            "80/80 [==============================] - 1s 8ms/step - loss: 0.0030 - acc: 0.9998 - val_loss: 0.8576 - val_acc: 0.7420\n",
            "Epoch 13/120\n",
            "80/80 [==============================] - 1s 8ms/step - loss: 0.0024 - acc: 0.9999 - val_loss: 0.8553 - val_acc: 0.7491\n",
            "Epoch 14/120\n",
            "80/80 [==============================] - 1s 9ms/step - loss: 0.0022 - acc: 0.9998 - val_loss: 0.8649 - val_acc: 0.7456\n",
            "Epoch 15/120\n",
            "80/80 [==============================] - 1s 9ms/step - loss: 0.0020 - acc: 0.9998 - val_loss: 0.8967 - val_acc: 0.7385\n",
            "Epoch 16/120\n",
            "80/80 [==============================] - 1s 9ms/step - loss: 0.0014 - acc: 0.9999 - val_loss: 0.8627 - val_acc: 0.7465\n",
            "Epoch 17/120\n",
            "80/80 [==============================] - 1s 9ms/step - loss: 0.0011 - acc: 1.0000 - val_loss: 0.8683 - val_acc: 0.7465\n",
            "Epoch 18/120\n",
            "80/80 [==============================] - 1s 8ms/step - loss: 9.2852e-04 - acc: 1.0000 - val_loss: 0.8671 - val_acc: 0.7509\n",
            "Epoch 19/120\n",
            "80/80 [==============================] - 1s 8ms/step - loss: 8.2339e-04 - acc: 1.0000 - val_loss: 0.8685 - val_acc: 0.7482\n",
            "Epoch 20/120\n",
            "80/80 [==============================] - 1s 8ms/step - loss: 7.3476e-04 - acc: 1.0000 - val_loss: 0.8716 - val_acc: 0.7473\n",
            "Epoch 21/120\n",
            "80/80 [==============================] - 1s 8ms/step - loss: 6.5867e-04 - acc: 1.0000 - val_loss: 0.8726 - val_acc: 0.7473\n",
            "Epoch 22/120\n",
            "80/80 [==============================] - 1s 9ms/step - loss: 5.9371e-04 - acc: 1.0000 - val_loss: 0.8762 - val_acc: 0.7456\n",
            "Epoch 23/120\n",
            "80/80 [==============================] - 1s 8ms/step - loss: 5.3700e-04 - acc: 1.0000 - val_loss: 0.8783 - val_acc: 0.7473\n",
            "Epoch 24/120\n",
            "80/80 [==============================] - 1s 8ms/step - loss: 4.8774e-04 - acc: 1.0000 - val_loss: 0.8805 - val_acc: 0.7465\n",
            "Epoch 25/120\n",
            "80/80 [==============================] - 1s 9ms/step - loss: 4.4469e-04 - acc: 1.0000 - val_loss: 0.8817 - val_acc: 0.7482\n",
            "Epoch 26/120\n",
            "80/80 [==============================] - 1s 8ms/step - loss: 4.0649e-04 - acc: 1.0000 - val_loss: 0.8847 - val_acc: 0.7465\n",
            "Epoch 27/120\n",
            "80/80 [==============================] - 1s 8ms/step - loss: 3.7253e-04 - acc: 1.0000 - val_loss: 0.8846 - val_acc: 0.7482\n",
            "Epoch 28/120\n",
            "80/80 [==============================] - 1s 9ms/step - loss: 3.4236e-04 - acc: 1.0000 - val_loss: 0.8875 - val_acc: 0.7473\n",
            "Epoch 29/120\n",
            "80/80 [==============================] - 1s 8ms/step - loss: 3.1513e-04 - acc: 1.0000 - val_loss: 0.8900 - val_acc: 0.7447\n",
            "Epoch 30/120\n",
            "80/80 [==============================] - 1s 8ms/step - loss: 2.9109e-04 - acc: 1.0000 - val_loss: 0.8921 - val_acc: 0.7482\n",
            "Epoch 31/120\n",
            "80/80 [==============================] - 1s 8ms/step - loss: 2.6916e-04 - acc: 1.0000 - val_loss: 0.8933 - val_acc: 0.7482\n",
            "Epoch 32/120\n",
            "80/80 [==============================] - 1s 9ms/step - loss: 2.4949e-04 - acc: 1.0000 - val_loss: 0.8955 - val_acc: 0.7482\n",
            "Epoch 33/120\n",
            "80/80 [==============================] - 1s 8ms/step - loss: 2.3149e-04 - acc: 1.0000 - val_loss: 0.8973 - val_acc: 0.7438\n",
            "Epoch 34/120\n",
            "80/80 [==============================] - 1s 9ms/step - loss: 2.1525e-04 - acc: 1.0000 - val_loss: 0.8994 - val_acc: 0.7465\n",
            "Epoch 35/120\n",
            "80/80 [==============================] - 1s 8ms/step - loss: 2.0043e-04 - acc: 1.0000 - val_loss: 0.9008 - val_acc: 0.7456\n",
            "Epoch 36/120\n",
            "80/80 [==============================] - 1s 8ms/step - loss: 1.8683e-04 - acc: 1.0000 - val_loss: 0.9024 - val_acc: 0.7465\n",
            "Epoch 37/120\n",
            "80/80 [==============================] - 1s 9ms/step - loss: 1.7439e-04 - acc: 1.0000 - val_loss: 0.9044 - val_acc: 0.7465\n",
            "Epoch 38/120\n",
            "80/80 [==============================] - 1s 8ms/step - loss: 1.6285e-04 - acc: 1.0000 - val_loss: 0.9065 - val_acc: 0.7473\n",
            "Epoch 39/120\n",
            "80/80 [==============================] - 1s 8ms/step - loss: 1.5245e-04 - acc: 1.0000 - val_loss: 0.9085 - val_acc: 0.7465\n",
            "Epoch 40/120\n",
            "80/80 [==============================] - 1s 9ms/step - loss: 1.4288e-04 - acc: 1.0000 - val_loss: 0.9102 - val_acc: 0.7482\n",
            "Epoch 41/120\n",
            "80/80 [==============================] - 1s 9ms/step - loss: 1.3388e-04 - acc: 1.0000 - val_loss: 0.9125 - val_acc: 0.7473\n",
            "Epoch 42/120\n",
            "80/80 [==============================] - 1s 8ms/step - loss: 1.2574e-04 - acc: 1.0000 - val_loss: 0.9141 - val_acc: 0.7465\n",
            "Epoch 43/120\n",
            "80/80 [==============================] - 1s 8ms/step - loss: 1.1799e-04 - acc: 1.0000 - val_loss: 0.9157 - val_acc: 0.7465\n",
            "Epoch 44/120\n",
            "80/80 [==============================] - 1s 8ms/step - loss: 1.1100e-04 - acc: 1.0000 - val_loss: 0.9186 - val_acc: 0.7447\n",
            "Epoch 45/120\n",
            "80/80 [==============================] - 1s 9ms/step - loss: 1.0444e-04 - acc: 1.0000 - val_loss: 0.9196 - val_acc: 0.7465\n",
            "Epoch 46/120\n",
            "80/80 [==============================] - 1s 8ms/step - loss: 9.8301e-05 - acc: 1.0000 - val_loss: 0.9216 - val_acc: 0.7473\n",
            "Epoch 47/120\n",
            "80/80 [==============================] - 1s 8ms/step - loss: 9.2713e-05 - acc: 1.0000 - val_loss: 0.9220 - val_acc: 0.7465\n",
            "Epoch 48/120\n",
            "80/80 [==============================] - 1s 9ms/step - loss: 8.7291e-05 - acc: 1.0000 - val_loss: 0.9252 - val_acc: 0.7482\n",
            "Epoch 49/120\n",
            "80/80 [==============================] - 1s 8ms/step - loss: 8.2420e-05 - acc: 1.0000 - val_loss: 0.9258 - val_acc: 0.7473\n",
            "Epoch 50/120\n",
            "80/80 [==============================] - 1s 9ms/step - loss: 7.7799e-05 - acc: 1.0000 - val_loss: 0.9293 - val_acc: 0.7482\n",
            "Epoch 51/120\n",
            "80/80 [==============================] - 1s 9ms/step - loss: 7.3400e-05 - acc: 1.0000 - val_loss: 0.9298 - val_acc: 0.7465\n",
            "Epoch 52/120\n",
            "80/80 [==============================] - 1s 9ms/step - loss: 6.9438e-05 - acc: 1.0000 - val_loss: 0.9325 - val_acc: 0.7473\n",
            "Epoch 53/120\n",
            "80/80 [==============================] - 1s 11ms/step - loss: 6.5627e-05 - acc: 1.0000 - val_loss: 0.9342 - val_acc: 0.7473\n",
            "Epoch 54/120\n",
            "80/80 [==============================] - 1s 10ms/step - loss: 6.2068e-05 - acc: 1.0000 - val_loss: 0.9344 - val_acc: 0.7465\n",
            "Epoch 55/120\n",
            "80/80 [==============================] - 1s 11ms/step - loss: 5.8720e-05 - acc: 1.0000 - val_loss: 0.9369 - val_acc: 0.7473\n",
            "Epoch 56/120\n",
            "80/80 [==============================] - 1s 12ms/step - loss: 5.5592e-05 - acc: 1.0000 - val_loss: 0.9385 - val_acc: 0.7473\n",
            "Epoch 57/120\n",
            "80/80 [==============================] - 1s 8ms/step - loss: 5.2645e-05 - acc: 1.0000 - val_loss: 0.9410 - val_acc: 0.7465\n",
            "Epoch 58/120\n",
            "80/80 [==============================] - 1s 9ms/step - loss: 4.9920e-05 - acc: 1.0000 - val_loss: 0.9425 - val_acc: 0.7482\n",
            "Epoch 59/120\n",
            "80/80 [==============================] - 1s 9ms/step - loss: 4.7347e-05 - acc: 1.0000 - val_loss: 0.9445 - val_acc: 0.7473\n",
            "Epoch 60/120\n",
            "80/80 [==============================] - 1s 9ms/step - loss: 4.4905e-05 - acc: 1.0000 - val_loss: 0.9454 - val_acc: 0.7482\n",
            "Epoch 61/120\n",
            "80/80 [==============================] - 1s 8ms/step - loss: 4.2608e-05 - acc: 1.0000 - val_loss: 0.9475 - val_acc: 0.7465\n",
            "Epoch 62/120\n",
            "80/80 [==============================] - 1s 9ms/step - loss: 4.0386e-05 - acc: 1.0000 - val_loss: 0.9485 - val_acc: 0.7473\n",
            "Epoch 63/120\n",
            "80/80 [==============================] - 1s 9ms/step - loss: 3.8353e-05 - acc: 1.0000 - val_loss: 0.9507 - val_acc: 0.7482\n",
            "Epoch 64/120\n",
            "80/80 [==============================] - 1s 8ms/step - loss: 3.6441e-05 - acc: 1.0000 - val_loss: 0.9528 - val_acc: 0.7473\n",
            "Epoch 65/120\n",
            "80/80 [==============================] - 1s 9ms/step - loss: 3.4543e-05 - acc: 1.0000 - val_loss: 0.9552 - val_acc: 0.7482\n",
            "Epoch 66/120\n",
            "80/80 [==============================] - 1s 8ms/step - loss: 3.2865e-05 - acc: 1.0000 - val_loss: 0.9558 - val_acc: 0.7482\n",
            "Epoch 67/120\n",
            "80/80 [==============================] - 1s 8ms/step - loss: 3.1238e-05 - acc: 1.0000 - val_loss: 0.9579 - val_acc: 0.7465\n",
            "Epoch 68/120\n",
            "80/80 [==============================] - 1s 9ms/step - loss: 2.9696e-05 - acc: 1.0000 - val_loss: 0.9594 - val_acc: 0.7465\n",
            "Epoch 69/120\n",
            "80/80 [==============================] - 1s 9ms/step - loss: 2.8246e-05 - acc: 1.0000 - val_loss: 0.9612 - val_acc: 0.7473\n",
            "Epoch 70/120\n",
            "80/80 [==============================] - 1s 9ms/step - loss: 2.6876e-05 - acc: 1.0000 - val_loss: 0.9634 - val_acc: 0.7465\n",
            "Epoch 71/120\n",
            "80/80 [==============================] - 1s 8ms/step - loss: 2.5554e-05 - acc: 1.0000 - val_loss: 0.9647 - val_acc: 0.7482\n",
            "Epoch 72/120\n",
            "80/80 [==============================] - 1s 9ms/step - loss: 2.4321e-05 - acc: 1.0000 - val_loss: 0.9663 - val_acc: 0.7473\n",
            "Epoch 73/120\n",
            "80/80 [==============================] - 1s 8ms/step - loss: 2.3111e-05 - acc: 1.0000 - val_loss: 0.9689 - val_acc: 0.7465\n",
            "Epoch 74/120\n",
            "80/80 [==============================] - 1s 9ms/step - loss: 2.2028e-05 - acc: 1.0000 - val_loss: 0.9702 - val_acc: 0.7482\n",
            "Epoch 75/120\n",
            "80/80 [==============================] - 1s 8ms/step - loss: 2.0977e-05 - acc: 1.0000 - val_loss: 0.9709 - val_acc: 0.7482\n",
            "Epoch 76/120\n",
            "80/80 [==============================] - 1s 8ms/step - loss: 1.9967e-05 - acc: 1.0000 - val_loss: 0.9734 - val_acc: 0.7465\n",
            "Epoch 77/120\n",
            "80/80 [==============================] - 1s 8ms/step - loss: 1.9021e-05 - acc: 1.0000 - val_loss: 0.9753 - val_acc: 0.7482\n",
            "Epoch 78/120\n",
            "80/80 [==============================] - 1s 9ms/step - loss: 1.8101e-05 - acc: 1.0000 - val_loss: 0.9763 - val_acc: 0.7491\n",
            "Epoch 79/120\n",
            "80/80 [==============================] - 1s 8ms/step - loss: 1.7275e-05 - acc: 1.0000 - val_loss: 0.9784 - val_acc: 0.7465\n",
            "Epoch 80/120\n",
            "80/80 [==============================] - 1s 9ms/step - loss: 1.6460e-05 - acc: 1.0000 - val_loss: 0.9806 - val_acc: 0.7473\n",
            "Epoch 81/120\n",
            "80/80 [==============================] - 1s 9ms/step - loss: 1.5694e-05 - acc: 1.0000 - val_loss: 0.9809 - val_acc: 0.7491\n",
            "Epoch 82/120\n",
            "80/80 [==============================] - 1s 10ms/step - loss: 1.4967e-05 - acc: 1.0000 - val_loss: 0.9835 - val_acc: 0.7473\n",
            "Epoch 83/120\n",
            "80/80 [==============================] - 1s 10ms/step - loss: 1.4259e-05 - acc: 1.0000 - val_loss: 0.9840 - val_acc: 0.7482\n",
            "Epoch 84/120\n",
            "80/80 [==============================] - 1s 10ms/step - loss: 1.3587e-05 - acc: 1.0000 - val_loss: 0.9858 - val_acc: 0.7482\n",
            "Epoch 85/120\n",
            "80/80 [==============================] - 1s 9ms/step - loss: 1.2973e-05 - acc: 1.0000 - val_loss: 0.9894 - val_acc: 0.7482\n",
            "Epoch 86/120\n",
            "80/80 [==============================] - 1s 9ms/step - loss: 1.2373e-05 - acc: 1.0000 - val_loss: 0.9893 - val_acc: 0.7491\n",
            "Epoch 87/120\n",
            "80/80 [==============================] - 1s 9ms/step - loss: 1.1804e-05 - acc: 1.0000 - val_loss: 0.9917 - val_acc: 0.7491\n",
            "Epoch 88/120\n",
            "80/80 [==============================] - 1s 9ms/step - loss: 1.1277e-05 - acc: 1.0000 - val_loss: 0.9930 - val_acc: 0.7482\n",
            "Epoch 89/120\n",
            "80/80 [==============================] - 1s 9ms/step - loss: 1.0751e-05 - acc: 1.0000 - val_loss: 0.9952 - val_acc: 0.7473\n",
            "Epoch 90/120\n",
            "80/80 [==============================] - 1s 9ms/step - loss: 1.0251e-05 - acc: 1.0000 - val_loss: 0.9967 - val_acc: 0.7482\n",
            "Epoch 91/120\n",
            "80/80 [==============================] - 1s 8ms/step - loss: 9.7916e-06 - acc: 1.0000 - val_loss: 0.9979 - val_acc: 0.7509\n",
            "Epoch 92/120\n",
            "80/80 [==============================] - 1s 9ms/step - loss: 9.3409e-06 - acc: 1.0000 - val_loss: 1.0001 - val_acc: 0.7491\n",
            "Epoch 93/120\n",
            "80/80 [==============================] - 1s 9ms/step - loss: 8.9143e-06 - acc: 1.0000 - val_loss: 1.0013 - val_acc: 0.7491\n",
            "Epoch 94/120\n",
            "80/80 [==============================] - 1s 9ms/step - loss: 8.5184e-06 - acc: 1.0000 - val_loss: 1.0042 - val_acc: 0.7491\n",
            "Epoch 95/120\n",
            "80/80 [==============================] - 1s 9ms/step - loss: 8.1308e-06 - acc: 1.0000 - val_loss: 1.0056 - val_acc: 0.7500\n",
            "Epoch 96/120\n",
            "80/80 [==============================] - 1s 9ms/step - loss: 7.7641e-06 - acc: 1.0000 - val_loss: 1.0070 - val_acc: 0.7482\n",
            "Epoch 97/120\n",
            "80/80 [==============================] - 1s 9ms/step - loss: 7.4153e-06 - acc: 1.0000 - val_loss: 1.0095 - val_acc: 0.7491\n",
            "Epoch 98/120\n",
            "80/80 [==============================] - 1s 9ms/step - loss: 7.0873e-06 - acc: 1.0000 - val_loss: 1.0106 - val_acc: 0.7482\n",
            "Epoch 99/120\n",
            "80/80 [==============================] - 1s 8ms/step - loss: 6.7735e-06 - acc: 1.0000 - val_loss: 1.0122 - val_acc: 0.7482\n",
            "Epoch 100/120\n",
            "80/80 [==============================] - 1s 9ms/step - loss: 6.4687e-06 - acc: 1.0000 - val_loss: 1.0142 - val_acc: 0.7482\n",
            "Epoch 101/120\n",
            "80/80 [==============================] - 1s 8ms/step - loss: 6.1864e-06 - acc: 1.0000 - val_loss: 1.0148 - val_acc: 0.7518\n",
            "Epoch 102/120\n",
            "80/80 [==============================] - 1s 9ms/step - loss: 5.9036e-06 - acc: 1.0000 - val_loss: 1.0173 - val_acc: 0.7491\n",
            "Epoch 103/120\n",
            "80/80 [==============================] - 1s 9ms/step - loss: 5.6413e-06 - acc: 1.0000 - val_loss: 1.0192 - val_acc: 0.7482\n",
            "Epoch 104/120\n",
            "80/80 [==============================] - 1s 9ms/step - loss: 5.3911e-06 - acc: 1.0000 - val_loss: 1.0205 - val_acc: 0.7482\n",
            "Epoch 105/120\n",
            "80/80 [==============================] - 1s 9ms/step - loss: 5.1602e-06 - acc: 1.0000 - val_loss: 1.0235 - val_acc: 0.7482\n",
            "Epoch 106/120\n",
            "80/80 [==============================] - 1s 9ms/step - loss: 4.9293e-06 - acc: 1.0000 - val_loss: 1.0243 - val_acc: 0.7500\n",
            "Epoch 107/120\n",
            "80/80 [==============================] - 1s 9ms/step - loss: 4.7104e-06 - acc: 1.0000 - val_loss: 1.0265 - val_acc: 0.7491\n",
            "Epoch 108/120\n",
            "80/80 [==============================] - 1s 9ms/step - loss: 4.5054e-06 - acc: 1.0000 - val_loss: 1.0285 - val_acc: 0.7500\n",
            "Epoch 109/120\n",
            "80/80 [==============================] - 1s 9ms/step - loss: 4.3081e-06 - acc: 1.0000 - val_loss: 1.0301 - val_acc: 0.7491\n",
            "Epoch 110/120\n",
            "80/80 [==============================] - 1s 9ms/step - loss: 4.1206e-06 - acc: 1.0000 - val_loss: 1.0318 - val_acc: 0.7491\n",
            "Epoch 111/120\n",
            "80/80 [==============================] - 1s 9ms/step - loss: 3.9362e-06 - acc: 1.0000 - val_loss: 1.0337 - val_acc: 0.7500\n",
            "Epoch 112/120\n",
            "80/80 [==============================] - 1s 9ms/step - loss: 3.7680e-06 - acc: 1.0000 - val_loss: 1.0348 - val_acc: 0.7509\n",
            "Epoch 113/120\n",
            "80/80 [==============================] - 1s 9ms/step - loss: 3.6052e-06 - acc: 1.0000 - val_loss: 1.0366 - val_acc: 0.7500\n",
            "Epoch 114/120\n",
            "80/80 [==============================] - 1s 9ms/step - loss: 3.4459e-06 - acc: 1.0000 - val_loss: 1.0388 - val_acc: 0.7500\n",
            "Epoch 115/120\n",
            "80/80 [==============================] - 1s 9ms/step - loss: 3.2990e-06 - acc: 1.0000 - val_loss: 1.0405 - val_acc: 0.7500\n",
            "Epoch 116/120\n",
            "80/80 [==============================] - 1s 9ms/step - loss: 3.1590e-06 - acc: 1.0000 - val_loss: 1.0423 - val_acc: 0.7509\n",
            "Epoch 117/120\n",
            "80/80 [==============================] - 1s 9ms/step - loss: 3.0208e-06 - acc: 1.0000 - val_loss: 1.0442 - val_acc: 0.7500\n",
            "Epoch 118/120\n",
            "80/80 [==============================] - 1s 9ms/step - loss: 2.8938e-06 - acc: 1.0000 - val_loss: 1.0456 - val_acc: 0.7500\n",
            "Epoch 119/120\n",
            "80/80 [==============================] - 1s 9ms/step - loss: 2.7685e-06 - acc: 1.0000 - val_loss: 1.0473 - val_acc: 0.7509\n",
            "Epoch 120/120\n",
            "80/80 [==============================] - 1s 9ms/step - loss: 2.6499e-06 - acc: 1.0000 - val_loss: 1.0491 - val_acc: 0.7518\n"
          ]
        }
      ],
      "source": [
        "history=model.fit(x_train, y_train, validation_split=0.1,\n",
        "          epochs=120, batch_size=128)"
      ]
    },
    {
      "cell_type": "code",
      "execution_count": null,
      "metadata": {
        "colab": {
          "base_uri": "https://localhost:8080/"
        },
        "id": "cr_Q0hRJaxOl",
        "outputId": "181104f8-7d08-4d1e-8381-9e2d56b9a49d"
      },
      "outputs": [
        {
          "output_type": "stream",
          "name": "stdout",
          "text": [
            "236/236 [==============================] - 0s 2ms/step\n",
            "test accuracy: 0.6849442379182156\n"
          ]
        }
      ],
      "source": [
        "output_test = model.predict(x_test)\n",
        "test_casses = np.argmax(output_test, axis=-1)\n",
        "print(\"test accuracy:\", np.mean(test_casses == y_test))\n"
      ]
    },
    {
      "cell_type": "code",
      "execution_count": null,
      "metadata": {
        "colab": {
          "base_uri": "https://localhost:8080/",
          "height": 281
        },
        "id": "X5Uday83Kd51",
        "outputId": "c7564b55-88b5-4e7a-9fc2-5680350c1e33"
      },
      "outputs": [
        {
          "output_type": "display_data",
          "data": {
            "text/plain": [
              "<Figure size 432x288 with 1 Axes>"
            ],
            "image/png": "[encoded data removed]"
          },
          "metadata": {
            "needs_background": "light"
          }
        }
      ],
      "source": [
        "plt.plot(history.history['acc'], label=\"Training acc\")\n",
        "plt.plot(history.history['val_acc'], label =\"Validation acc\")\n",
        "plt.title(\"accuracy of model\")\n",
        "plt.ylabel(\"Accuracy\")\n",
        "plt.ylabel(\"Epoch\")\n",
        "plt.legend()\n",
        "plt.show()"
      ]
    },
    {
      "cell_type": "code",
      "execution_count": null,
      "metadata": {
        "colab": {
          "base_uri": "https://localhost:8080/",
          "height": 281
        },
        "id": "_dGDNgBnb3Re",
        "outputId": "81d6b26c-7920-4876-df57-64071d10ac5c"
      },
      "outputs": [
        {
          "output_type": "display_data",
          "data": {
            "text/plain": [
              "<Figure size 432x288 with 1 Axes>"
            ],
            "image/png": "[encoded data removed]"
          },
          "metadata": {
            "needs_background": "light"
          }
        }
      ],
      "source": [
        "plt.plot(history.history['loss'], label=\"Training loss\")\n",
        "plt.plot(history.history['val_loss'], label =\"Validation loss\")\n",
        "plt.title(\"loss of model\")\n",
        "plt.ylabel(\"Loss\")\n",
        "plt.ylabel(\"Epoch\")\n",
        "plt.legend()\n",
        "plt.show()"
      ]
    },
    {
      "cell_type": "code",
      "execution_count": null,
      "metadata": {
        "colab": {
          "base_uri": "https://localhost:8080/"
        },
        "id": "smdNO_mQaLpe",
        "outputId": "e3d8de0e-df40-4e5e-8217-825733e8ed03"
      },
      "outputs": [
        {
          "output_type": "stream",
          "name": "stdout",
          "text": [
            "Model: \"sequential_1\"\n",
            "_________________________________________________________________\n",
            " Layer (type)                Output Shape              Param #   \n",
            "=================================================================\n",
            " embedding_1 (Embedding)     (None, 1000, 100)         2000000   \n",
            "                                                                 \n",
            " flatten_1 (Flatten)         (None, 100000)            0         \n",
            "                                                                 \n",
            " dense_2 (Dense)             (None, 64)                6400064   \n",
            "                                                                 \n",
            " dropout (Dropout)           (None, 64)                0         \n",
            "                                                                 \n",
            " dense_3 (Dense)             (None, 20)                1300      \n",
            "                                                                 \n",
            "=================================================================\n",
            "Total params: 8,401,364\n",
            "Trainable params: 8,401,364\n",
            "Non-trainable params: 0\n",
            "_________________________________________________________________\n"
          ]
        }
      ],
      "source": [
        "from keras.layers import Dropout\n",
        "EMBEDDING_DIM = 100\n",
        "N_CLASSES = 20\n",
        "\n",
        "# input: a sequence of MAX_SEQUENCE_LENGTH integers\n",
        "\n",
        "model = Sequential()\n",
        "model.add(Embedding(MAX_NB_WORDS, EMBEDDING_DIM,\n",
        "                            input_length=MAX_SEQUENCE_LENGTH,\n",
        "                            trainable=True));\n",
        "model.add(Flatten());   \n",
        "model.add(Dense(64, activation='relu')); \n",
        "model.add(Dropout(0.4));\n",
        "model.add(Dense(N_CLASSES, activation='softmax'));       \n",
        "model.summary()               \n",
        "\n",
        "\n",
        "model.compile(loss='categorical_crossentropy',\n",
        "              optimizer='adam', metrics=['acc'])"
      ]
    },
    {
      "cell_type": "code",
      "execution_count": null,
      "metadata": {
        "colab": {
          "base_uri": "https://localhost:8080/"
        },
        "id": "t_fRVD6MbYNd",
        "outputId": "64dff2fd-f507-4219-d28d-b48e1e1202e5"
      },
      "outputs": [
        {
          "output_type": "stream",
          "name": "stdout",
          "text": [
            "354/354 [==============================] - 1s 3ms/step - loss: 2.9960 - acc: 0.0535\n"
          ]
        },
        {
          "output_type": "execute_result",
          "data": {
            "text/plain": [
              "[2.996047258377075, 0.0534735731780529]"
            ]
          },
          "metadata": {},
          "execution_count": 18
        }
      ],
      "source": [
        "model.evaluate(x_train,y_train)"
      ]
    },
    {
      "cell_type": "code",
      "execution_count": null,
      "metadata": {
        "colab": {
          "base_uri": "https://localhost:8080/"
        },
        "id": "A1xCEeD4bqZz",
        "outputId": "8d6b595e-9635-4445-f0b6-95145277aff5"
      },
      "outputs": [
        {
          "output_type": "stream",
          "name": "stdout",
          "text": [
            "Epoch 1/120\n",
            "80/80 [==============================] - 1s 10ms/step - loss: 3.0066 - acc: 0.0560 - val_loss: 2.9554 - val_acc: 0.0786\n",
            "Epoch 2/120\n",
            "80/80 [==============================] - 1s 9ms/step - loss: 2.8680 - acc: 0.1002 - val_loss: 2.8267 - val_acc: 0.1422\n",
            "Epoch 3/120\n",
            "80/80 [==============================] - 1s 9ms/step - loss: 2.3422 - acc: 0.2787 - val_loss: 1.6869 - val_acc: 0.5459\n",
            "Epoch 4/120\n",
            "80/80 [==============================] - 1s 8ms/step - loss: 0.8970 - acc: 0.7607 - val_loss: 1.0347 - val_acc: 0.7138\n",
            "Epoch 5/120\n",
            "80/80 [==============================] - 1s 9ms/step - loss: 0.2790 - acc: 0.9460 - val_loss: 0.8224 - val_acc: 0.7535\n",
            "Epoch 6/120\n",
            "80/80 [==============================] - 1s 9ms/step - loss: 0.1213 - acc: 0.9834 - val_loss: 0.7744 - val_acc: 0.7641\n",
            "Epoch 7/120\n",
            "80/80 [==============================] - 1s 9ms/step - loss: 0.0703 - acc: 0.9923 - val_loss: 0.7679 - val_acc: 0.7650\n",
            "Epoch 8/120\n",
            "80/80 [==============================] - 1s 8ms/step - loss: 0.0496 - acc: 0.9941 - val_loss: 0.7519 - val_acc: 0.7703\n",
            "Epoch 9/120\n",
            "80/80 [==============================] - 1s 8ms/step - loss: 0.0371 - acc: 0.9955 - val_loss: 0.7510 - val_acc: 0.7694\n",
            "Epoch 10/120\n",
            "80/80 [==============================] - 1s 9ms/step - loss: 0.0272 - acc: 0.9968 - val_loss: 0.7334 - val_acc: 0.7818\n",
            "Epoch 11/120\n",
            "80/80 [==============================] - 1s 9ms/step - loss: 0.0214 - acc: 0.9974 - val_loss: 0.7477 - val_acc: 0.7827\n",
            "Epoch 12/120\n",
            "80/80 [==============================] - 1s 9ms/step - loss: 0.0170 - acc: 0.9981 - val_loss: 0.7410 - val_acc: 0.7853\n",
            "Epoch 13/120\n",
            "80/80 [==============================] - 1s 9ms/step - loss: 0.0160 - acc: 0.9980 - val_loss: 0.7458 - val_acc: 0.7906\n",
            "Epoch 14/120\n",
            "80/80 [==============================] - 1s 9ms/step - loss: 0.0133 - acc: 0.9984 - val_loss: 0.7480 - val_acc: 0.7862\n",
            "Epoch 15/120\n",
            "80/80 [==============================] - 1s 9ms/step - loss: 0.0105 - acc: 0.9990 - val_loss: 0.7520 - val_acc: 0.7898\n",
            "Epoch 16/120\n",
            "80/80 [==============================] - 1s 9ms/step - loss: 0.0100 - acc: 0.9993 - val_loss: 0.7616 - val_acc: 0.7889\n",
            "Epoch 17/120\n",
            "80/80 [==============================] - 1s 9ms/step - loss: 0.0097 - acc: 0.9986 - val_loss: 0.7573 - val_acc: 0.7906\n",
            "Epoch 18/120\n",
            "80/80 [==============================] - 1s 9ms/step - loss: 0.0096 - acc: 0.9988 - val_loss: 0.7584 - val_acc: 0.7889\n",
            "Epoch 19/120\n",
            "80/80 [==============================] - 1s 9ms/step - loss: 0.0082 - acc: 0.9989 - val_loss: 0.7721 - val_acc: 0.7845\n",
            "Epoch 20/120\n",
            "80/80 [==============================] - 1s 9ms/step - loss: 0.0077 - acc: 0.9990 - val_loss: 0.7708 - val_acc: 0.7818\n",
            "Epoch 21/120\n",
            "80/80 [==============================] - 1s 8ms/step - loss: 0.0073 - acc: 0.9995 - val_loss: 0.8211 - val_acc: 0.7800\n",
            "Epoch 22/120\n",
            "80/80 [==============================] - 1s 9ms/step - loss: 0.0064 - acc: 0.9991 - val_loss: 0.7952 - val_acc: 0.7862\n",
            "Epoch 23/120\n",
            "80/80 [==============================] - 1s 9ms/step - loss: 0.0071 - acc: 0.9993 - val_loss: 0.8191 - val_acc: 0.7871\n",
            "Epoch 24/120\n",
            "80/80 [==============================] - 1s 9ms/step - loss: 0.0064 - acc: 0.9993 - val_loss: 0.8315 - val_acc: 0.7836\n",
            "Epoch 25/120\n",
            "80/80 [==============================] - 1s 9ms/step - loss: 0.0081 - acc: 0.9991 - val_loss: 0.8013 - val_acc: 0.7783\n",
            "Epoch 26/120\n",
            "80/80 [==============================] - 1s 9ms/step - loss: 0.0065 - acc: 0.9994 - val_loss: 0.8463 - val_acc: 0.7792\n",
            "Epoch 27/120\n",
            "80/80 [==============================] - 1s 9ms/step - loss: 0.0054 - acc: 0.9991 - val_loss: 0.8346 - val_acc: 0.7809\n",
            "Epoch 28/120\n",
            "80/80 [==============================] - 1s 9ms/step - loss: 0.0053 - acc: 0.9993 - val_loss: 0.8567 - val_acc: 0.7774\n",
            "Epoch 29/120\n",
            "80/80 [==============================] - 1s 9ms/step - loss: 0.0064 - acc: 0.9993 - val_loss: 0.8708 - val_acc: 0.7845\n",
            "Epoch 30/120\n",
            "80/80 [==============================] - 1s 9ms/step - loss: 0.0048 - acc: 0.9990 - val_loss: 0.8497 - val_acc: 0.7827\n",
            "Epoch 31/120\n",
            "80/80 [==============================] - 1s 9ms/step - loss: 0.0044 - acc: 0.9993 - val_loss: 0.8556 - val_acc: 0.7898\n",
            "Epoch 32/120\n",
            "80/80 [==============================] - 1s 9ms/step - loss: 0.0028 - acc: 0.9996 - val_loss: 0.8623 - val_acc: 0.7862\n",
            "Epoch 33/120\n",
            "80/80 [==============================] - 1s 9ms/step - loss: 0.0038 - acc: 0.9994 - val_loss: 0.9182 - val_acc: 0.7836\n",
            "Epoch 34/120\n",
            "80/80 [==============================] - 1s 8ms/step - loss: 0.0046 - acc: 0.9995 - val_loss: 0.9022 - val_acc: 0.7792\n",
            "Epoch 35/120\n",
            "80/80 [==============================] - 1s 9ms/step - loss: 0.0029 - acc: 0.9996 - val_loss: 0.9365 - val_acc: 0.7836\n",
            "Epoch 36/120\n",
            "80/80 [==============================] - 1s 9ms/step - loss: 0.0024 - acc: 0.9998 - val_loss: 0.9116 - val_acc: 0.7809\n",
            "Epoch 37/120\n",
            "80/80 [==============================] - 1s 9ms/step - loss: 0.0028 - acc: 0.9995 - val_loss: 0.9154 - val_acc: 0.7774\n",
            "Epoch 38/120\n",
            "80/80 [==============================] - 1s 9ms/step - loss: 0.0048 - acc: 0.9994 - val_loss: 0.9561 - val_acc: 0.7712\n",
            "Epoch 39/120\n",
            "80/80 [==============================] - 1s 9ms/step - loss: 0.0033 - acc: 0.9995 - val_loss: 0.9331 - val_acc: 0.7809\n",
            "Epoch 40/120\n",
            "80/80 [==============================] - 1s 9ms/step - loss: 0.0025 - acc: 0.9996 - val_loss: 0.9298 - val_acc: 0.7853\n",
            "Epoch 41/120\n",
            "80/80 [==============================] - 1s 8ms/step - loss: 0.0024 - acc: 0.9996 - val_loss: 1.0027 - val_acc: 0.7827\n",
            "Epoch 42/120\n",
            "80/80 [==============================] - 1s 8ms/step - loss: 0.0034 - acc: 0.9992 - val_loss: 0.9576 - val_acc: 0.7818\n",
            "Epoch 43/120\n",
            "80/80 [==============================] - 1s 9ms/step - loss: 0.0026 - acc: 0.9995 - val_loss: 0.9901 - val_acc: 0.7836\n",
            "Epoch 44/120\n",
            "80/80 [==============================] - 1s 9ms/step - loss: 0.0039 - acc: 0.9994 - val_loss: 0.9676 - val_acc: 0.7792\n",
            "Epoch 45/120\n",
            "80/80 [==============================] - 1s 9ms/step - loss: 0.0050 - acc: 0.9992 - val_loss: 0.9609 - val_acc: 0.7809\n",
            "Epoch 46/120\n",
            "80/80 [==============================] - 1s 9ms/step - loss: 0.0040 - acc: 0.9990 - val_loss: 0.9854 - val_acc: 0.7809\n",
            "Epoch 47/120\n",
            "80/80 [==============================] - 1s 9ms/step - loss: 0.0022 - acc: 0.9997 - val_loss: 1.0355 - val_acc: 0.7747\n",
            "Epoch 48/120\n",
            "80/80 [==============================] - 1s 9ms/step - loss: 0.0047 - acc: 0.9998 - val_loss: 1.0488 - val_acc: 0.7765\n",
            "Epoch 49/120\n",
            "80/80 [==============================] - 1s 9ms/step - loss: 0.0018 - acc: 0.9998 - val_loss: 0.9854 - val_acc: 0.7774\n",
            "Epoch 50/120\n",
            "80/80 [==============================] - 1s 8ms/step - loss: 0.0026 - acc: 0.9994 - val_loss: 1.1079 - val_acc: 0.7694\n",
            "Epoch 51/120\n",
            "80/80 [==============================] - 1s 8ms/step - loss: 0.0021 - acc: 0.9997 - val_loss: 1.0632 - val_acc: 0.7800\n",
            "Epoch 52/120\n",
            "80/80 [==============================] - 1s 8ms/step - loss: 0.0018 - acc: 0.9997 - val_loss: 1.0842 - val_acc: 0.7774\n",
            "Epoch 53/120\n",
            "80/80 [==============================] - 1s 9ms/step - loss: 0.0035 - acc: 0.9993 - val_loss: 1.0490 - val_acc: 0.7800\n",
            "Epoch 54/120\n",
            "80/80 [==============================] - 1s 9ms/step - loss: 0.0037 - acc: 0.9993 - val_loss: 1.1481 - val_acc: 0.7686\n",
            "Epoch 55/120\n",
            "80/80 [==============================] - 1s 9ms/step - loss: 0.0036 - acc: 0.9996 - val_loss: 1.1221 - val_acc: 0.7827\n",
            "Epoch 56/120\n",
            "80/80 [==============================] - 1s 9ms/step - loss: 0.0027 - acc: 0.9994 - val_loss: 1.0360 - val_acc: 0.7703\n",
            "Epoch 57/120\n",
            "80/80 [==============================] - 1s 9ms/step - loss: 0.0059 - acc: 0.9994 - val_loss: 1.1918 - val_acc: 0.7694\n",
            "Epoch 58/120\n",
            "80/80 [==============================] - 1s 9ms/step - loss: 0.0045 - acc: 0.9992 - val_loss: 1.0576 - val_acc: 0.7712\n",
            "Epoch 59/120\n",
            "80/80 [==============================] - 1s 9ms/step - loss: 0.0064 - acc: 0.9989 - val_loss: 1.1834 - val_acc: 0.7500\n",
            "Epoch 60/120\n",
            "80/80 [==============================] - 1s 9ms/step - loss: 0.0092 - acc: 0.9991 - val_loss: 1.2398 - val_acc: 0.7571\n",
            "Epoch 61/120\n",
            "80/80 [==============================] - 1s 9ms/step - loss: 0.0050 - acc: 0.9989 - val_loss: 1.2896 - val_acc: 0.7500\n",
            "Epoch 62/120\n",
            "80/80 [==============================] - 1s 9ms/step - loss: 0.0057 - acc: 0.9992 - val_loss: 1.1702 - val_acc: 0.7641\n",
            "Epoch 63/120\n",
            "80/80 [==============================] - 1s 9ms/step - loss: 0.0060 - acc: 0.9993 - val_loss: 1.0280 - val_acc: 0.7597\n",
            "Epoch 64/120\n",
            "80/80 [==============================] - 1s 9ms/step - loss: 0.0110 - acc: 0.9981 - val_loss: 1.2528 - val_acc: 0.7694\n",
            "Epoch 65/120\n",
            "80/80 [==============================] - 1s 9ms/step - loss: 0.0115 - acc: 0.9983 - val_loss: 1.2631 - val_acc: 0.7500\n",
            "Epoch 66/120\n",
            "80/80 [==============================] - 1s 9ms/step - loss: 0.0111 - acc: 0.9982 - val_loss: 1.2454 - val_acc: 0.7615\n",
            "Epoch 67/120\n",
            "80/80 [==============================] - 1s 8ms/step - loss: 0.0181 - acc: 0.9978 - val_loss: 1.3301 - val_acc: 0.7535\n",
            "Epoch 68/120\n",
            "80/80 [==============================] - 1s 8ms/step - loss: 0.0123 - acc: 0.9978 - val_loss: 1.1346 - val_acc: 0.7624\n",
            "Epoch 69/120\n",
            "80/80 [==============================] - 1s 9ms/step - loss: 0.0089 - acc: 0.9979 - val_loss: 1.2178 - val_acc: 0.7694\n",
            "Epoch 70/120\n",
            "80/80 [==============================] - 1s 9ms/step - loss: 0.0111 - acc: 0.9985 - val_loss: 1.4003 - val_acc: 0.7544\n",
            "Epoch 71/120\n",
            "80/80 [==============================] - 1s 8ms/step - loss: 0.0098 - acc: 0.9981 - val_loss: 1.4485 - val_acc: 0.7500\n",
            "Epoch 72/120\n",
            "80/80 [==============================] - 1s 9ms/step - loss: 0.0124 - acc: 0.9981 - val_loss: 1.2922 - val_acc: 0.7606\n",
            "Epoch 73/120\n",
            "80/80 [==============================] - 1s 9ms/step - loss: 0.0052 - acc: 0.9982 - val_loss: 1.3291 - val_acc: 0.7712\n",
            "Epoch 74/120\n",
            "80/80 [==============================] - 1s 9ms/step - loss: 0.0049 - acc: 0.9986 - val_loss: 1.2203 - val_acc: 0.7580\n",
            "Epoch 75/120\n",
            "80/80 [==============================] - 1s 9ms/step - loss: 0.0052 - acc: 0.9991 - val_loss: 1.1948 - val_acc: 0.7571\n",
            "Epoch 76/120\n",
            "80/80 [==============================] - 1s 9ms/step - loss: 0.0083 - acc: 0.9986 - val_loss: 1.3971 - val_acc: 0.7633\n",
            "Epoch 77/120\n",
            "80/80 [==============================] - 1s 9ms/step - loss: 0.0052 - acc: 0.9989 - val_loss: 1.3183 - val_acc: 0.7659\n",
            "Epoch 78/120\n",
            "80/80 [==============================] - 1s 9ms/step - loss: 0.0119 - acc: 0.9986 - val_loss: 1.3381 - val_acc: 0.7624\n",
            "Epoch 79/120\n",
            "80/80 [==============================] - 1s 9ms/step - loss: 0.0176 - acc: 0.9982 - val_loss: 1.2873 - val_acc: 0.7606\n",
            "Epoch 80/120\n",
            "80/80 [==============================] - 1s 9ms/step - loss: 0.0047 - acc: 0.9989 - val_loss: 1.4382 - val_acc: 0.7624\n",
            "Epoch 81/120\n",
            "80/80 [==============================] - 1s 9ms/step - loss: 0.0117 - acc: 0.9977 - val_loss: 1.3541 - val_acc: 0.7571\n",
            "Epoch 82/120\n",
            "80/80 [==============================] - 1s 9ms/step - loss: 0.0083 - acc: 0.9988 - val_loss: 1.3169 - val_acc: 0.7615\n",
            "Epoch 83/120\n",
            "80/80 [==============================] - 1s 9ms/step - loss: 0.0039 - acc: 0.9988 - val_loss: 1.4175 - val_acc: 0.7650\n",
            "Epoch 84/120\n",
            "80/80 [==============================] - 1s 9ms/step - loss: 0.0078 - acc: 0.9990 - val_loss: 1.3878 - val_acc: 0.7668\n",
            "Epoch 85/120\n",
            "80/80 [==============================] - 1s 9ms/step - loss: 0.0104 - acc: 0.9988 - val_loss: 1.4357 - val_acc: 0.7571\n",
            "Epoch 86/120\n",
            "80/80 [==============================] - 1s 9ms/step - loss: 0.0065 - acc: 0.9993 - val_loss: 1.3922 - val_acc: 0.7509\n",
            "Epoch 87/120\n",
            "80/80 [==============================] - 1s 9ms/step - loss: 0.0040 - acc: 0.9988 - val_loss: 1.4992 - val_acc: 0.7500\n",
            "Epoch 88/120\n",
            "80/80 [==============================] - 1s 8ms/step - loss: 0.0064 - acc: 0.9982 - val_loss: 1.5092 - val_acc: 0.7633\n",
            "Epoch 89/120\n",
            "80/80 [==============================] - 1s 9ms/step - loss: 0.0052 - acc: 0.9986 - val_loss: 1.5334 - val_acc: 0.7580\n",
            "Epoch 90/120\n",
            "80/80 [==============================] - 1s 9ms/step - loss: 0.0069 - acc: 0.9987 - val_loss: 1.4981 - val_acc: 0.7606\n",
            "Epoch 91/120\n",
            "80/80 [==============================] - 1s 9ms/step - loss: 0.0061 - acc: 0.9981 - val_loss: 1.5627 - val_acc: 0.7491\n",
            "Epoch 92/120\n",
            "80/80 [==============================] - 1s 9ms/step - loss: 0.0167 - acc: 0.9984 - val_loss: 1.5012 - val_acc: 0.7562\n",
            "Epoch 93/120\n",
            "80/80 [==============================] - 1s 9ms/step - loss: 0.0060 - acc: 0.9980 - val_loss: 1.6166 - val_acc: 0.7527\n",
            "Epoch 94/120\n",
            "80/80 [==============================] - 1s 9ms/step - loss: 0.0069 - acc: 0.9986 - val_loss: 1.5994 - val_acc: 0.7482\n",
            "Epoch 95/120\n",
            "80/80 [==============================] - 1s 9ms/step - loss: 0.0040 - acc: 0.9990 - val_loss: 1.6424 - val_acc: 0.7588\n",
            "Epoch 96/120\n",
            "80/80 [==============================] - 1s 9ms/step - loss: 0.0029 - acc: 0.9990 - val_loss: 1.6772 - val_acc: 0.7509\n",
            "Epoch 97/120\n",
            "80/80 [==============================] - 1s 9ms/step - loss: 0.0127 - acc: 0.9974 - val_loss: 1.4813 - val_acc: 0.7482\n",
            "Epoch 98/120\n",
            "80/80 [==============================] - 1s 9ms/step - loss: 0.0066 - acc: 0.9986 - val_loss: 1.4931 - val_acc: 0.7624\n",
            "Epoch 99/120\n",
            "80/80 [==============================] - 1s 8ms/step - loss: 0.0081 - acc: 0.9993 - val_loss: 1.6828 - val_acc: 0.7580\n",
            "Epoch 100/120\n",
            "80/80 [==============================] - 1s 9ms/step - loss: 0.0054 - acc: 0.9992 - val_loss: 1.6925 - val_acc: 0.7580\n",
            "Epoch 101/120\n",
            "80/80 [==============================] - 1s 9ms/step - loss: 0.0054 - acc: 0.9992 - val_loss: 1.6817 - val_acc: 0.7562\n",
            "Epoch 102/120\n",
            "80/80 [==============================] - 1s 9ms/step - loss: 0.0047 - acc: 0.9991 - val_loss: 1.8222 - val_acc: 0.7606\n",
            "Epoch 103/120\n",
            "80/80 [==============================] - 1s 9ms/step - loss: 0.0057 - acc: 0.9987 - val_loss: 1.6304 - val_acc: 0.7571\n",
            "Epoch 104/120\n",
            "80/80 [==============================] - 1s 9ms/step - loss: 0.0054 - acc: 0.9985 - val_loss: 1.4117 - val_acc: 0.7588\n",
            "Epoch 105/120\n",
            "80/80 [==============================] - 1s 9ms/step - loss: 0.0069 - acc: 0.9985 - val_loss: 1.4765 - val_acc: 0.7456\n",
            "Epoch 106/120\n",
            "80/80 [==============================] - 1s 9ms/step - loss: 0.0085 - acc: 0.9988 - val_loss: 1.4557 - val_acc: 0.7527\n",
            "Epoch 107/120\n",
            "80/80 [==============================] - 1s 9ms/step - loss: 0.0031 - acc: 0.9991 - val_loss: 1.6776 - val_acc: 0.7641\n",
            "Epoch 108/120\n",
            "80/80 [==============================] - 1s 9ms/step - loss: 0.0064 - acc: 0.9989 - val_loss: 1.4113 - val_acc: 0.7606\n",
            "Epoch 109/120\n",
            "80/80 [==============================] - 1s 9ms/step - loss: 0.0053 - acc: 0.9990 - val_loss: 1.8631 - val_acc: 0.7527\n",
            "Epoch 110/120\n",
            "80/80 [==============================] - 1s 9ms/step - loss: 0.0065 - acc: 0.9987 - val_loss: 1.5900 - val_acc: 0.7580\n",
            "Epoch 111/120\n",
            "80/80 [==============================] - 1s 9ms/step - loss: 0.0070 - acc: 0.9989 - val_loss: 1.6641 - val_acc: 0.7580\n",
            "Epoch 112/120\n",
            "80/80 [==============================] - 1s 9ms/step - loss: 0.0160 - acc: 0.9982 - val_loss: 1.5452 - val_acc: 0.7562\n",
            "Epoch 113/120\n",
            "80/80 [==============================] - 1s 9ms/step - loss: 0.0111 - acc: 0.9980 - val_loss: 1.6480 - val_acc: 0.7553\n",
            "Epoch 114/120\n",
            "80/80 [==============================] - 1s 9ms/step - loss: 0.0069 - acc: 0.9985 - val_loss: 1.5918 - val_acc: 0.7694\n",
            "Epoch 115/120\n",
            "80/80 [==============================] - 1s 9ms/step - loss: 0.0090 - acc: 0.9988 - val_loss: 1.7054 - val_acc: 0.7588\n",
            "Epoch 116/120\n",
            "80/80 [==============================] - 1s 9ms/step - loss: 0.0042 - acc: 0.9986 - val_loss: 1.6668 - val_acc: 0.7571\n",
            "Epoch 117/120\n",
            "80/80 [==============================] - 1s 9ms/step - loss: 0.0082 - acc: 0.9988 - val_loss: 1.7287 - val_acc: 0.7571\n",
            "Epoch 118/120\n",
            "80/80 [==============================] - 1s 9ms/step - loss: 0.0030 - acc: 0.9992 - val_loss: 1.6417 - val_acc: 0.7615\n",
            "Epoch 119/120\n",
            "80/80 [==============================] - 1s 9ms/step - loss: 0.0072 - acc: 0.9981 - val_loss: 1.7231 - val_acc: 0.7553\n",
            "Epoch 120/120\n",
            "80/80 [==============================] - 1s 9ms/step - loss: 0.0092 - acc: 0.9985 - val_loss: 1.6998 - val_acc: 0.7500\n"
          ]
        }
      ],
      "source": [
        "history=model.fit(x_train, y_train, validation_split=0.1,\n",
        "          epochs=120, batch_size=128)"
      ]
    },
    {
      "cell_type": "code",
      "execution_count": null,
      "metadata": {
        "colab": {
          "base_uri": "https://localhost:8080/"
        },
        "id": "3EpUQz0hbxi3",
        "outputId": "398b94ae-5ee3-42d0-8ada-0a8e6815fae3"
      },
      "outputs": [
        {
          "output_type": "stream",
          "name": "stdout",
          "text": [
            "236/236 [==============================] - 0s 1ms/step\n",
            "test accuracy: 0.6789697291556027\n"
          ]
        }
      ],
      "source": [
        "output_test = model.predict(x_test)\n",
        "test_casses = np.argmax(output_test, axis=-1)\n",
        "print(\"test accuracy:\", np.mean(test_casses == y_test))\n"
      ]
    },
    {
      "cell_type": "code",
      "execution_count": null,
      "metadata": {
        "colab": {
          "base_uri": "https://localhost:8080/",
          "height": 281
        },
        "id": "IQFKweKIcXKr",
        "outputId": "528a8614-bda8-427a-b155-d25891df96f2"
      },
      "outputs": [
        {
          "output_type": "display_data",
          "data": {
            "text/plain": [
              "<Figure size 432x288 with 1 Axes>"
            ],
            "image/png": "[encoded data removed]"
          },
          "metadata": {
            "needs_background": "light"
          }
        }
      ],
      "source": [
        "plt.plot(history.history['acc'], label=\"Training acc\")\n",
        "plt.plot(history.history['val_acc'], label =\"Validation acc\")\n",
        "plt.title(\"accuracy of model\")\n",
        "plt.ylabel(\"Accuracy\")\n",
        "plt.ylabel(\"Epoch\")\n",
        "plt.legend()\n",
        "plt.show()"
      ]
    },
    {
      "cell_type": "code",
      "execution_count": null,
      "metadata": {
        "colab": {
          "base_uri": "https://localhost:8080/",
          "height": 281
        },
        "id": "YqsgVWOpcYKz",
        "outputId": "40dc4f8b-20b2-498a-afe6-b89ddb7683e2"
      },
      "outputs": [
        {
          "output_type": "display_data",
          "data": {
            "text/plain": [
              "<Figure size 432x288 with 1 Axes>"
            ],
            "image/png": "[encoded data removed]"
          },
          "metadata": {
            "needs_background": "light"
          }
        }
      ],
      "source": [
        "plt.plot(history.history['loss'], label=\"Training loss\")\n",
        "plt.plot(history.history['val_loss'], label =\"Validation loss\")\n",
        "plt.title(\"loss of model\")\n",
        "plt.ylabel(\"Loss\")\n",
        "plt.ylabel(\"Epoch\")\n",
        "plt.legend()\n",
        "plt.show()"
      ]
    },
    {
      "cell_type": "code",
      "execution_count": null,
      "metadata": {
        "colab": {
          "base_uri": "https://localhost:8080/"
        },
        "id": "KLEVkov3etXc",
        "outputId": "ea7a883d-8445-4c24-97a5-9b624264a253"
      },
      "outputs": [
        {
          "output_type": "stream",
          "name": "stdout",
          "text": [
            "Model: \"sequential_2\"\n",
            "_________________________________________________________________\n",
            " Layer (type)                Output Shape              Param #   \n",
            "=================================================================\n",
            " embedding_2 (Embedding)     (None, 1000, 100)         2000000   \n",
            "                                                                 \n",
            " flatten_2 (Flatten)         (None, 100000)            0         \n",
            "                                                                 \n",
            " dense_4 (Dense)             (None, 64)                6400064   \n",
            "                                                                 \n",
            " dense_5 (Dense)             (None, 20)                1300      \n",
            "                                                                 \n",
            "=================================================================\n",
            "Total params: 8,401,364\n",
            "Trainable params: 8,401,364\n",
            "Non-trainable params: 0\n",
            "_________________________________________________________________\n"
          ]
        }
      ],
      "source": [
        "from keras.layers import Dense, Input, Flatten, Embedding\n",
        "from keras.models import Sequential\n",
        "from keras.callbacks import EarlyStopping, ModelCheckpoint\n",
        "\n",
        "EMBEDDING_DIM = 100\n",
        "N_CLASSES = 20\n",
        "\n",
        "# input: a sequence of MAX_SEQUENCE_LENGTH integers\n",
        "\n",
        "model = Sequential()\n",
        "model.add(Embedding(MAX_NB_WORDS, EMBEDDING_DIM,\n",
        "                            input_length=MAX_SEQUENCE_LENGTH,\n",
        "                            trainable=True));\n",
        "model.add(Flatten());   \n",
        "model.add(Dense(64, activation='relu')); \n",
        "model.add(Dense(N_CLASSES, activation='softmax'));       \n",
        "model.summary()               \n",
        "\n",
        "\n",
        "model.compile(loss='categorical_crossentropy',\n",
        "              optimizer='adam', metrics=['acc'])"
      ]
    },
    {
      "cell_type": "code",
      "execution_count": null,
      "metadata": {
        "colab": {
          "base_uri": "https://localhost:8080/"
        },
        "id": "6NGF50F6emi1",
        "outputId": "f54b5f21-4e00-471a-d18d-6ab86d999d72"
      },
      "outputs": [
        {
          "output_type": "stream",
          "name": "stdout",
          "text": [
            "[<keras.callbacks.EarlyStopping object at 0x7fdf4dc01dc0>, <keras.callbacks.ModelCheckpoint object at 0x7fdf4dc01f70>]\n"
          ]
        }
      ],
      "source": [
        "callbacks = [EarlyStopping(monitor='val_loss', patience=2),\n",
        "             ModelCheckpoint(filepath='pred', monitor='val_loss', save_best_only=True)]\n",
        "\n",
        "print(callbacks)"
      ]
    },
    {
      "cell_type": "code",
      "execution_count": null,
      "metadata": {
        "colab": {
          "base_uri": "https://localhost:8080/"
        },
        "id": "02Vo5W58ftLz",
        "outputId": "12e0db2e-5494-4f88-b4bf-0bcb4621a4cb"
      },
      "outputs": [
        {
          "output_type": "stream",
          "name": "stdout",
          "text": [
            "Epoch 1/120\n",
            "80/80 [==============================] - 2s 21ms/step - loss: 2.9684 - acc: 0.0716 - val_loss: 2.8465 - val_acc: 0.0998\n",
            "Epoch 2/120\n",
            "80/80 [==============================] - 1s 18ms/step - loss: 2.1579 - acc: 0.3374 - val_loss: 1.5230 - val_acc: 0.5159\n",
            "Epoch 3/120\n",
            "80/80 [==============================] - 1s 18ms/step - loss: 0.5894 - acc: 0.8705 - val_loss: 0.9890 - val_acc: 0.7085\n",
            "Epoch 4/120\n",
            "80/80 [==============================] - 2s 20ms/step - loss: 0.1146 - acc: 0.9901 - val_loss: 0.8753 - val_acc: 0.7376\n",
            "Epoch 5/120\n",
            "80/80 [==============================] - 1s 17ms/step - loss: 0.0385 - acc: 0.9989 - val_loss: 0.8399 - val_acc: 0.7420\n",
            "Epoch 6/120\n",
            "80/80 [==============================] - 1s 18ms/step - loss: 0.0195 - acc: 0.9995 - val_loss: 0.8286 - val_acc: 0.7509\n",
            "Epoch 7/120\n",
            "80/80 [==============================] - 1s 9ms/step - loss: 0.0134 - acc: 0.9993 - val_loss: 0.8325 - val_acc: 0.7456\n",
            "Epoch 8/120\n",
            "80/80 [==============================] - 1s 9ms/step - loss: 0.0091 - acc: 0.9995 - val_loss: 0.8334 - val_acc: 0.7438\n"
          ]
        }
      ],
      "source": [
        "history=model.fit(x_train, y_train, validation_split=0.1,\n",
        "          epochs=120, batch_size=128, callbacks=callbacks)"
      ]
    },
    {
      "cell_type": "code",
      "execution_count": null,
      "metadata": {
        "colab": {
          "base_uri": "https://localhost:8080/"
        },
        "id": "GlD3P3CWgMin",
        "outputId": "0891b468-c065-4e85-fd24-2a3d609e8841"
      },
      "outputs": [
        {
          "output_type": "stream",
          "name": "stdout",
          "text": [
            "236/236 [==============================] - 0s 2ms/step\n",
            "test accuracy: 0.6647636749867233\n"
          ]
        }
      ],
      "source": [
        "output_test = model.predict(x_test)\n",
        "test_casses = np.argmax(output_test, axis=-1)\n",
        "print(\"test accuracy:\", np.mean(test_casses == y_test))"
      ]
    },
    {
      "cell_type": "code",
      "execution_count": null,
      "metadata": {
        "colab": {
          "base_uri": "https://localhost:8080/",
          "height": 281
        },
        "id": "VaoAiBOegMpZ",
        "outputId": "a6260962-79e5-47fc-8226-c23bb4b051aa"
      },
      "outputs": [
        {
          "output_type": "display_data",
          "data": {
            "text/plain": [
              "<Figure size 432x288 with 1 Axes>"
            ],
            "image/png": "[encoded data removed]"
          },
          "metadata": {
            "needs_background": "light"
          }
        }
      ],
      "source": [
        "plt.plot(history.history['acc'], label=\"Training acc\")\n",
        "plt.plot(history.history['val_acc'], label =\"Validation acc\")\n",
        "plt.title(\"accuracy of model\")\n",
        "plt.ylabel(\"Accuracy\")\n",
        "plt.ylabel(\"Epoch\")\n",
        "plt.legend()\n",
        "plt.show()"
      ]
    },
    {
      "cell_type": "code",
      "execution_count": null,
      "metadata": {
        "colab": {
          "base_uri": "https://localhost:8080/",
          "height": 281
        },
        "id": "u_9tdspxgea7",
        "outputId": "19083827-d345-411c-8229-b84cfb7c8d0a"
      },
      "outputs": [
        {
          "output_type": "display_data",
          "data": {
            "text/plain": [
              "<Figure size 432x288 with 1 Axes>"
            ],
            "image/png": "[encoded data removed]"
          },
          "metadata": {
            "needs_background": "light"
          }
        }
      ],
      "source": [
        "plt.plot(history.history['loss'], label=\"Training loss\")\n",
        "plt.plot(history.history['val_loss'], label =\"Validation loss\")\n",
        "plt.title(\"loss of model\")\n",
        "plt.ylabel(\"Loss\")\n",
        "plt.ylabel(\"Epoch\")\n",
        "plt.legend()\n",
        "plt.show()"
      ]
    },
    {
      "cell_type": "code",
      "execution_count": null,
      "metadata": {
        "colab": {
          "base_uri": "https://localhost:8080/"
        },
        "id": "3PuTJyq5ggzG",
        "outputId": "7449497f-ed39-4671-c5a0-c3f89d0f9fb9"
      },
      "outputs": [
        {
          "output_type": "stream",
          "name": "stdout",
          "text": [
            "Model: \"sequential_3\"\n",
            "_________________________________________________________________\n",
            " Layer (type)                Output Shape              Param #   \n",
            "=================================================================\n",
            " embedding_3 (Embedding)     (None, 1000, 100)         2000000   \n",
            "                                                                 \n",
            " lstm (LSTM)                 (None, 64)                42240     \n",
            "                                                                 \n",
            " dense_6 (Dense)             (None, 64)                4160      \n",
            "                                                                 \n",
            " dropout_1 (Dropout)         (None, 64)                0         \n",
            "                                                                 \n",
            " dense_7 (Dense)             (None, 20)                1300      \n",
            "                                                                 \n",
            "=================================================================\n",
            "Total params: 2,047,700\n",
            "Trainable params: 2,047,700\n",
            "Non-trainable params: 0\n",
            "_________________________________________________________________\n"
          ]
        }
      ],
      "source": [
        "from keras.layers import LSTM\n",
        "EMBEDDING_DIM = 100\n",
        "N_CLASSES = 20\n",
        "\n",
        "# input: a sequence of MAX_SEQUENCE_LENGTH integers\n",
        "\n",
        "model = Sequential()\n",
        "model.add(Embedding(MAX_NB_WORDS, EMBEDDING_DIM,\n",
        "                            input_length=MAX_SEQUENCE_LENGTH,\n",
        "                            trainable=True));\n",
        "model.add(LSTM(64))                             \n",
        "model.add(Dense(64, activation='relu')); \n",
        "model.add(Dropout(0.4));\n",
        "model.add(Dense(N_CLASSES, activation='softmax'));       \n",
        "model.summary()               \n",
        "\n",
        "\n",
        "model.compile(loss='categorical_crossentropy',\n",
        "              optimizer='adam', metrics=['acc'])"
      ]
    },
    {
      "cell_type": "code",
      "execution_count": null,
      "metadata": {
        "colab": {
          "base_uri": "https://localhost:8080/"
        },
        "id": "Itgz0Rv9ho0s",
        "outputId": "2fde05b3-b241-4379-f3a6-793a9db80f10"
      },
      "outputs": [
        {
          "output_type": "stream",
          "name": "stdout",
          "text": [
            "[<keras.callbacks.EarlyStopping object at 0x7fdf40095cd0>, <keras.callbacks.ModelCheckpoint object at 0x7fdf40095a30>]\n"
          ]
        }
      ],
      "source": [
        "callbacks = [EarlyStopping(monitor='val_loss', patience=2),\n",
        "             ModelCheckpoint(filepath='pred', monitor='val_loss', save_best_only=True)]\n",
        "\n",
        "print(callbacks)"
      ]
    },
    {
      "cell_type": "code",
      "execution_count": null,
      "metadata": {
        "colab": {
          "base_uri": "https://localhost:8080/"
        },
        "id": "H0bOcRKIhvJ3",
        "outputId": "60401658-ac3e-4d34-dcc9-46a9061f29ba"
      },
      "outputs": [
        {
          "output_type": "stream",
          "name": "stdout",
          "text": [
            "Epoch 1/120\n",
            "79/80 [============================>.] - ETA: 0s - loss: 2.9427 - acc: 0.1006"
          ]
        },
        {
          "output_type": "stream",
          "name": "stderr",
          "text": [
            "WARNING:absl:Found untraced functions such as lstm_cell_layer_call_fn, lstm_cell_layer_call_and_return_conditional_losses while saving (showing 2 of 2). These functions will not be directly callable after loading.\n"
          ]
        },
        {
          "output_type": "stream",
          "name": "stdout",
          "text": [
            "\b\b\b\b\b\b\b\b\b\b\b\b\b\b\b\b\b\b\b\b\b\b\b\b\b\b\b\b\b\b\b\b\b\b\b\b\b\b\b\b\b\b\b\b\b\b\b\b\b\b\b\b\b\b\b\b\b\b\b\b\b\b\b\b\b\b\b\b\b\b\b\b\b\b\b\b\b\r80/80 [==============================] - 13s 116ms/step - loss: 2.9410 - acc: 0.1015 - val_loss: 2.7268 - val_acc: 0.1493\n",
            "Epoch 2/120\n",
            "80/80 [==============================] - ETA: 0s - loss: 2.4298 - acc: 0.2128"
          ]
        },
        {
          "output_type": "stream",
          "name": "stderr",
          "text": [
            "WARNING:absl:Found untraced functions such as lstm_cell_layer_call_fn, lstm_cell_layer_call_and_return_conditional_losses while saving (showing 2 of 2). These functions will not be directly callable after loading.\n"
          ]
        },
        {
          "output_type": "stream",
          "name": "stdout",
          "text": [
            "\b\b\b\b\b\b\b\b\b\b\b\b\b\b\b\b\b\b\b\b\b\b\b\b\b\b\b\b\b\b\b\b\b\b\b\b\b\b\b\b\b\b\b\b\b\b\b\b\b\b\b\b\b\b\b\b\b\b\b\b\b\b\b\b\b\b\b\b\b\b\b\b\b\b\b\b\b\r80/80 [==============================] - 9s 116ms/step - loss: 2.4298 - acc: 0.2128 - val_loss: 2.2807 - val_acc: 0.2968\n",
            "Epoch 3/120\n",
            "79/80 [============================>.] - ETA: 0s - loss: 1.8393 - acc: 0.4002"
          ]
        },
        {
          "output_type": "stream",
          "name": "stderr",
          "text": [
            "WARNING:absl:Found untraced functions such as lstm_cell_layer_call_fn, lstm_cell_layer_call_and_return_conditional_losses while saving (showing 2 of 2). These functions will not be directly callable after loading.\n"
          ]
        },
        {
          "output_type": "stream",
          "name": "stdout",
          "text": [
            "\b\b\b\b\b\b\b\b\b\b\b\b\b\b\b\b\b\b\b\b\b\b\b\b\b\b\b\b\b\b\b\b\b\b\b\b\b\b\b\b\b\b\b\b\b\b\b\b\b\b\b\b\b\b\b\b\b\b\b\b\b\b\b\b\b\b\b\b\b\b\b\b\b\b\b\b\b\r80/80 [==============================] - 9s 110ms/step - loss: 1.8358 - acc: 0.4015 - val_loss: 1.7401 - val_acc: 0.4267\n",
            "Epoch 4/120\n",
            "79/80 [============================>.] - ETA: 0s - loss: 1.2187 - acc: 0.5890"
          ]
        },
        {
          "output_type": "stream",
          "name": "stderr",
          "text": [
            "WARNING:absl:Found untraced functions such as lstm_cell_layer_call_fn, lstm_cell_layer_call_and_return_conditional_losses while saving (showing 2 of 2). These functions will not be directly callable after loading.\n"
          ]
        },
        {
          "output_type": "stream",
          "name": "stdout",
          "text": [
            "\b\b\b\b\b\b\b\b\b\b\b\b\b\b\b\b\b\b\b\b\b\b\b\b\b\b\b\b\b\b\b\b\b\b\b\b\b\b\b\b\b\b\b\b\b\b\b\b\b\b\b\b\b\b\b\b\b\b\b\b\b\b\b\b\b\b\b\b\b\b\b\b\b\b\b\b\b\r80/80 [==============================] - 8s 106ms/step - loss: 1.2179 - acc: 0.5894 - val_loss: 1.5000 - val_acc: 0.5239\n",
            "Epoch 5/120\n",
            "79/80 [============================>.] - ETA: 0s - loss: 0.8580 - acc: 0.7090"
          ]
        },
        {
          "output_type": "stream",
          "name": "stderr",
          "text": [
            "WARNING:absl:Found untraced functions such as lstm_cell_layer_call_fn, lstm_cell_layer_call_and_return_conditional_losses while saving (showing 2 of 2). These functions will not be directly callable after loading.\n"
          ]
        },
        {
          "output_type": "stream",
          "name": "stdout",
          "text": [
            "\b\b\b\b\b\b\b\b\b\b\b\b\b\b\b\b\b\b\b\b\b\b\b\b\b\b\b\b\b\b\b\b\b\b\b\b\b\b\b\b\b\b\b\b\b\b\b\b\b\b\b\b\b\b\b\b\b\b\b\b\b\b\b\b\b\b\b\b\b\b\b\b\b\b\b\b\b\r80/80 [==============================] - 9s 111ms/step - loss: 0.8573 - acc: 0.7092 - val_loss: 1.2761 - val_acc: 0.6272\n",
            "Epoch 6/120\n",
            "80/80 [==============================] - 5s 58ms/step - loss: 0.6529 - acc: 0.7903 - val_loss: 1.3220 - val_acc: 0.6290\n",
            "Epoch 7/120\n",
            "80/80 [==============================] - 5s 57ms/step - loss: 0.4310 - acc: 0.8679 - val_loss: 1.3210 - val_acc: 0.6652\n"
          ]
        }
      ],
      "source": [
        "history=model.fit(x_train, y_train, validation_split=0.1,\n",
        "          epochs=120, batch_size=128, callbacks=callbacks)"
      ]
    },
    {
      "cell_type": "code",
      "execution_count": null,
      "metadata": {
        "colab": {
          "base_uri": "https://localhost:8080/"
        },
        "id": "RXaCy8uQh1-c",
        "outputId": "3f14eef6-a30d-4a35-b74e-3d97f3ac1bc8"
      },
      "outputs": [
        {
          "output_type": "stream",
          "name": "stdout",
          "text": [
            "236/236 [==============================] - 4s 17ms/step\n",
            "test accuracy: 0.5735528412108338\n"
          ]
        }
      ],
      "source": [
        "output_test = model.predict(x_test)\n",
        "test_casses = np.argmax(output_test, axis=-1)\n",
        "print(\"test accuracy:\", np.mean(test_casses == y_test))"
      ]
    },
    {
      "cell_type": "code",
      "execution_count": null,
      "metadata": {
        "colab": {
          "base_uri": "https://localhost:8080/",
          "height": 281
        },
        "id": "cJrIgOuai8AO",
        "outputId": "9ffd0fae-a636-44a7-9a1e-bc2c6b0e0cd1"
      },
      "outputs": [
        {
          "output_type": "display_data",
          "data": {
            "text/plain": [
              "<Figure size 432x288 with 1 Axes>"
            ],
            "image/png": "[encoded data removed]"
          },
          "metadata": {
            "needs_background": "light"
          }
        }
      ],
      "source": [
        "plt.plot(history.history['acc'], label=\"Training acc\")\n",
        "plt.plot(history.history['val_acc'], label =\"Validation acc\")\n",
        "plt.title(\"accuracy of model\")\n",
        "plt.ylabel(\"Accuracy\")\n",
        "plt.ylabel(\"Epoch\")\n",
        "plt.legend()\n",
        "plt.show()"
      ]
    },
    {
      "cell_type": "code",
      "execution_count": null,
      "metadata": {
        "colab": {
          "base_uri": "https://localhost:8080/",
          "height": 281
        },
        "id": "_zo_4bCtjQWs",
        "outputId": "5c19c422-52e0-4fcb-eca0-5e1e9f6e47a8"
      },
      "outputs": [
        {
          "output_type": "display_data",
          "data": {
            "text/plain": [
              "<Figure size 432x288 with 1 Axes>"
            ],
            "image/png": "[encoded data removed]"
          },
          "metadata": {
            "needs_background": "light"
          }
        }
      ],
      "source": [
        "plt.plot(history.history['loss'], label=\"Training loss\")\n",
        "plt.plot(history.history['val_loss'], label =\"Validation loss\")\n",
        "plt.title(\"loss of model\")\n",
        "plt.ylabel(\"Loss\")\n",
        "plt.ylabel(\"Epoch\")\n",
        "plt.legend()\n",
        "plt.show()"
      ]
    },
    {
      "cell_type": "code",
      "execution_count": null,
      "metadata": {
        "colab": {
          "base_uri": "https://localhost:8080/",
          "height": 73
        },
        "id": "Mv7m4qaspej8",
        "outputId": "a4a8f5c1-1073-463d-a637-d1331698dd12"
      },
      "outputs": [
        {
          "output_type": "display_data",
          "data": {
            "text/plain": [
              "<IPython.core.display.HTML object>"
            ],
            "text/html": [
              "\n",
              "     <input type=\"file\" id=\"files-df7276ec-3aa6-4b9e-a5e1-fc0533b0ab0d\" name=\"files[]\" multiple disabled\n",
              "        style=\"border:none\" />\n",
              "     <output id=\"result-df7276ec-3aa6-4b9e-a5e1-fc0533b0ab0d\">\n",
              "      Upload widget is only available when the cell has been executed in the\n",
              "      current browser session. Please rerun this cell to enable.\n",
              "      </output>\n",
              "      <script>// Copyright 2017 Google LLC\n",
              "//\n",
              "// Licensed under the Apache License, Version 2.0 (the \"License\");\n",
              "// you may not use this file except in compliance with the License.\n",
              "// You may obtain a copy of the License at\n",
              "//\n",
              "//      http://www.apache.org/licenses/LICENSE-2.0\n",
              "//\n",
              "// Unless required by applicable law or agreed to in writing, software\n",
              "// distributed under the License is distributed on an \"AS IS\" BASIS,\n",
              "// WITHOUT WARRANTIES OR CONDITIONS OF ANY KIND, either express or implied.\n",
              "// See the License for the specific language governing permissions and\n",
              "// limitations under the License.\n",
              "\n",
              "/**\n",
              " * @fileoverview Helpers for google.colab Python module.\n",
              " */\n",
              "(function(scope) {\n",
              "function span(text, styleAttributes = {}) {\n",
              "  const element = document.createElement('span');\n",
              "  element.textContent = text;\n",
              "  for (const key of Object.keys(styleAttributes)) {\n",
              "    element.style[key] = styleAttributes[key];\n",
              "  }\n",
              "  return element;\n",
              "}\n",
              "\n",
              "// Max number of bytes which will be uploaded at a time.\n",
              "const MAX_PAYLOAD_SIZE = 100 * 1024;\n",
              "\n",
              "function _uploadFiles(inputId, outputId) {\n",
              "  const steps = uploadFilesStep(inputId, outputId);\n",
              "  const outputElement = document.getElementById(outputId);\n",
              "  // Cache steps on the outputElement to make it available for the next call\n",
              "  // to uploadFilesContinue from Python.\n",
              "  outputElement.steps = steps;\n",
              "\n",
              "  return _uploadFilesContinue(outputId);\n",
              "}\n",
              "\n",
              "// This is roughly an async generator (not supported in the browser yet),\n",
              "// where there are multiple asynchronous steps and the Python side is going\n",
              "// to poll for completion of each step.\n",
              "// This uses a Promise to block the python side on completion of each step,\n",
              "// then passes the result of the previous step as the input to the next step.\n",
              "function _uploadFilesContinue(outputId) {\n",
              "  const outputElement = document.getElementById(outputId);\n",
              "  const steps = outputElement.steps;\n",
              "\n",
              "  const next = steps.next(outputElement.lastPromiseValue);\n",
              "  return Promise.resolve(next.value.promise).then((value) => {\n",
              "    // Cache the last promise value to make it available to the next\n",
              "    // step of the generator.\n",
              "    outputElement.lastPromiseValue = value;\n",
              "    return next.value.response;\n",
              "  });\n",
              "}\n",
              "\n",
              "/**\n",
              " * Generator function which is called between each async step of the upload\n",
              " * process.\n",
              " * @param {string} inputId Element ID of the input file picker element.\n",
              " * @param {string} outputId Element ID of the output display.\n",
              " * @return {!Iterable<!Object>} Iterable of next steps.\n",
              " */\n",
              "function* uploadFilesStep(inputId, outputId) {\n",
              "  const inputElement = document.getElementById(inputId);\n",
              "  inputElement.disabled = false;\n",
              "\n",
              "  const outputElement = document.getElementById(outputId);\n",
              "  outputElement.innerHTML = '';\n",
              "\n",
              "  const pickedPromise = new Promise((resolve) => {\n",
              "    inputElement.addEventListener('change', (e) => {\n",
              "      resolve(e.target.files);\n",
              "    });\n",
              "  });\n",
              "\n",
              "  const cancel = document.createElement('button');\n",
              "  inputElement.parentElement.appendChild(cancel);\n",
              "  cancel.textContent = 'Cancel upload';\n",
              "  const cancelPromise = new Promise((resolve) => {\n",
              "    cancel.onclick = () => {\n",
              "      resolve(null);\n",
              "    };\n",
              "  });\n",
              "\n",
              "  // Wait for the user to pick the files.\n",
              "  const files = yield {\n",
              "    promise: Promise.race([pickedPromise, cancelPromise]),\n",
              "    response: {\n",
              "      action: 'starting',\n",
              "    }\n",
              "  };\n",
              "\n",
              "  cancel.remove();\n",
              "\n",
              "  // Disable the input element since further picks are not allowed.\n",
              "  inputElement.disabled = true;\n",
              "\n",
              "  if (!files) {\n",
              "    return {\n",
              "      response: {\n",
              "        action: 'complete',\n",
              "      }\n",
              "    };\n",
              "  }\n",
              "\n",
              "  for (const file of files) {\n",
              "    const li = document.createElement('li');\n",
              "    li.append(span(file.name, {fontWeight: 'bold'}));\n",
              "    li.append(span(\n",
              "        `(${file.type || 'n/a'}) - ${file.size} bytes, ` +\n",
              "        `last modified: ${\n",
              "            file.lastModifiedDate ? file.lastModifiedDate.toLocaleDateString() :\n",
              "                                    'n/a'} - `));\n",
              "    const percent = span('0% done');\n",
              "    li.appendChild(percent);\n",
              "\n",
              "    outputElement.appendChild(li);\n",
              "\n",
              "    const fileDataPromise = new Promise((resolve) => {\n",
              "      const reader = new FileReader();\n",
              "      reader.onload = (e) => {\n",
              "        resolve(e.target.result);\n",
              "      };\n",
              "      reader.readAsArrayBuffer(file);\n",
              "    });\n",
              "    // Wait for the data to be ready.\n",
              "    let fileData = yield {\n",
              "      promise: fileDataPromise,\n",
              "      response: {\n",
              "        action: 'continue',\n",
              "      }\n",
              "    };\n",
              "\n",
              "    // Use a chunked sending to avoid message size limits. See b/62115660.\n",
              "    let position = 0;\n",
              "    do {\n",
              "      const length = Math.min(fileData.byteLength - position, MAX_PAYLOAD_SIZE);\n",
              "      const chunk = new Uint8Array(fileData, position, length);\n",
              "      position += length;\n",
              "\n",
              "      const base64 = btoa(String.fromCharCode.apply(null, chunk));\n",
              "      yield {\n",
              "        response: {\n",
              "          action: 'append',\n",
              "          file: file.name,\n",
              "          data: base64,\n",
              "        },\n",
              "      };\n",
              "\n",
              "      let percentDone = fileData.byteLength === 0 ?\n",
              "          100 :\n",
              "          Math.round((position / fileData.byteLength) * 100);\n",
              "      percent.textContent = `${percentDone}% done`;\n",
              "\n",
              "    } while (position < fileData.byteLength);\n",
              "  }\n",
              "\n",
              "  // All done.\n",
              "  yield {\n",
              "    response: {\n",
              "      action: 'complete',\n",
              "    }\n",
              "  };\n",
              "}\n",
              "\n",
              "scope.google = scope.google || {};\n",
              "scope.google.colab = scope.google.colab || {};\n",
              "scope.google.colab._files = {\n",
              "  _uploadFiles,\n",
              "  _uploadFilesContinue,\n",
              "};\n",
              "})(self);\n",
              "</script> "
            ]
          },
          "metadata": {}
        },
        {
          "output_type": "stream",
          "name": "stdout",
          "text": [
            "Saving glove.6B.50d.txt to glove.6B.50d.txt\n"
          ]
        }
      ],
      "source": [
        "from google.colab import files\n",
        "uploaded = files.upload()"
      ]
    },
    {
      "cell_type": "code",
      "source": [
        "embeddings_index = {}\n",
        "embeddings_vectors = []\n",
        "f = open('glove.6B.50d.txt', 'rb')\n",
        "\n",
        "word_idx = 0\n",
        "for line in f:\n",
        "    values = line.decode('utf-8').split()\n",
        "    word = values[0]\n",
        "    vector = np.asarray(values[1:], dtype='float32')\n",
        "    embeddings_index[word] = word_idx\n",
        "    embeddings_vectors.append(vector)\n",
        "    word_idx = word_idx + 1\n",
        "f.close()\n",
        "\n",
        "inv_index = {v: k for k, v in embeddings_index.items()}\n",
        "print(\"found %d different words in the file\" % word_idx)"
      ],
      "metadata": {
        "colab": {
          "base_uri": "https://localhost:8080/"
        },
        "id": "msbPL6E_9RlD",
        "outputId": "a54ecf6a-9c1a-4478-d575-bcb655c52af0"
      },
      "execution_count": null,
      "outputs": [
        {
          "output_type": "stream",
          "name": "stdout",
          "text": [
            "found 400000 different words in the file\n"
          ]
        }
      ]
    },
    {
      "cell_type": "code",
      "source": [
        "# Stack all embeddings in a large numpy array\n",
        "glove_embeddings = np.vstack(embeddings_vectors)\n",
        "glove_norms = np.linalg.norm(glove_embeddings, axis=-1, keepdims=True)\n",
        "glove_embeddings_normed = glove_embeddings / glove_norms\n",
        "print(glove_embeddings.shape)"
      ],
      "metadata": {
        "colab": {
          "base_uri": "https://localhost:8080/"
        },
        "id": "4PMxee1s9ovm",
        "outputId": "f2e2ec47-e146-451a-9db0-8e6b5f4b8da5"
      },
      "execution_count": null,
      "outputs": [
        {
          "output_type": "stream",
          "name": "stdout",
          "text": [
            "(400000, 50)\n"
          ]
        }
      ]
    },
    {
      "cell_type": "code",
      "source": [
        "def get_emb(word):\n",
        "    idx = embeddings_index.get(word)\n",
        "    if idx is None:\n",
        "        return None\n",
        "    else:\n",
        "        return glove_embeddings[idx]\n",
        "\n",
        "    \n",
        "def get_normed_emb(word):\n",
        "    idx = embeddings_index.get(word)\n",
        "    if idx is None:\n",
        "        return None\n",
        "    else:\n",
        "        return glove_embeddings_normed[idx]"
      ],
      "metadata": {
        "id": "g4DmjIpA9sjM"
      },
      "execution_count": null,
      "outputs": []
    },
    {
      "cell_type": "code",
      "source": [
        "EMBEDDING_DIM = 50\n",
        "\n",
        "# prepare embedding matrix\n",
        "nb_words_in_matrix = 0\n",
        "nb_words = min(MAX_NB_WORDS, len(word_index))\n",
        "embedding_matrix = np.zeros((nb_words, EMBEDDING_DIM))\n",
        "for word, i in word_index.items():\n",
        "    if i >= MAX_NB_WORDS:\n",
        "        continue\n",
        "    embedding_vector = get_emb(word)\n",
        "    if embedding_vector is not None:\n",
        "        # words not found in embedding index will be all-zeros.\n",
        "        embedding_matrix[i] = embedding_vector\n",
        "        nb_words_in_matrix = nb_words_in_matrix + 1\n",
        "        \n",
        "print(\"added %d words in the embedding matrix\" % nb_words_in_matrix)"
      ],
      "metadata": {
        "colab": {
          "base_uri": "https://localhost:8080/"
        },
        "id": "3SZbdimw948K",
        "outputId": "6d4d0fb3-26a3-4ed3-a614-6f0d33849ee3"
      },
      "execution_count": null,
      "outputs": [
        {
          "output_type": "stream",
          "name": "stdout",
          "text": [
            "added 17401 words in the embedding matrix\n"
          ]
        }
      ]
    },
    {
      "cell_type": "code",
      "source": [
        "pretrained_embedding_layer = Embedding(\n",
        "    MAX_NB_WORDS, 50,\n",
        "    weights=[embedding_matrix],\n",
        "    input_length=MAX_SEQUENCE_LENGTH,\n",
        ")"
      ],
      "metadata": {
        "id": "8VYATk5L952x"
      },
      "execution_count": null,
      "outputs": []
    },
    {
      "cell_type": "code",
      "source": [
        "model = Sequential()\n",
        "model.add(pretrained_embedding_layer);\n",
        "model.add(Flatten());   \n",
        "model.add(Dense(64, activation='relu')); \n",
        "####model.add(Dropout(0.4));\n",
        "model.add(Dense(N_CLASSES, activation='softmax'));       \n",
        "model.summary()  \n"
      ],
      "metadata": {
        "colab": {
          "base_uri": "https://localhost:8080/"
        },
        "id": "Sr5MDkqd-w2m",
        "outputId": "4af215dc-b6c0-4112-c374-64d087efa51c"
      },
      "execution_count": null,
      "outputs": [
        {
          "output_type": "stream",
          "name": "stdout",
          "text": [
            "Model: \"sequential_5\"\n",
            "_________________________________________________________________\n",
            " Layer (type)                Output Shape              Param #   \n",
            "=================================================================\n",
            " embedding_4 (Embedding)     (None, 1000, 50)          1000000   \n",
            "                                                                 \n",
            " flatten_3 (Flatten)         (None, 50000)             0         \n",
            "                                                                 \n",
            " dense_10 (Dense)            (None, 64)                3200064   \n",
            "                                                                 \n",
            " dense_11 (Dense)            (None, 20)                1300      \n",
            "                                                                 \n",
            "=================================================================\n",
            "Total params: 4,201,364\n",
            "Trainable params: 4,201,364\n",
            "Non-trainable params: 0\n",
            "_________________________________________________________________\n"
          ]
        }
      ]
    },
    {
      "cell_type": "code",
      "source": [
        "callbacks = [EarlyStopping(monitor='val_loss', patience=10),\n",
        "             ModelCheckpoint(filepath='pred', monitor='val_loss', save_best_only=True)]\n",
        "\n",
        "print(callbacks)"
      ],
      "metadata": {
        "colab": {
          "base_uri": "https://localhost:8080/"
        },
        "id": "Sp0XoDc5-yis",
        "outputId": "1abb47e2-8954-4f6e-8b4b-70a9a285b909"
      },
      "execution_count": null,
      "outputs": [
        {
          "output_type": "stream",
          "name": "stdout",
          "text": [
            "[<keras.callbacks.EarlyStopping object at 0x7fdee03aa910>, <keras.callbacks.ModelCheckpoint object at 0x7fdee03aaee0>]\n"
          ]
        }
      ]
    },
    {
      "cell_type": "code",
      "source": [
        "model.compile(loss='categorical_crossentropy',\n",
        "              optimizer='adam', metrics=['acc'])"
      ],
      "metadata": {
        "id": "nFI8AE-kAO1i"
      },
      "execution_count": null,
      "outputs": []
    },
    {
      "cell_type": "code",
      "source": [
        "history=model.fit(x_train, y_train, validation_split=0.1,\n",
        "          epochs=120, batch_size=128, callbacks=callbacks)"
      ],
      "metadata": {
        "colab": {
          "base_uri": "https://localhost:8080/"
        },
        "id": "3yxyDEA8-14y",
        "outputId": "3a3a09a8-772b-4325-8c6f-aa94922d38d8"
      },
      "execution_count": null,
      "outputs": [
        {
          "output_type": "stream",
          "name": "stdout",
          "text": [
            "Epoch 1/120\n",
            "80/80 [==============================] - 2s 16ms/step - loss: 0.0192 - acc: 0.9977 - val_loss: 2.3275 - val_acc: 0.5424\n",
            "Epoch 2/120\n",
            "80/80 [==============================] - 1s 14ms/step - loss: 0.0122 - acc: 0.9982 - val_loss: 2.2428 - val_acc: 0.5459\n",
            "Epoch 3/120\n",
            "80/80 [==============================] - 1s 7ms/step - loss: 0.0182 - acc: 0.9970 - val_loss: 2.4722 - val_acc: 0.5141\n",
            "Epoch 4/120\n",
            "80/80 [==============================] - 1s 14ms/step - loss: 0.0122 - acc: 0.9983 - val_loss: 2.1891 - val_acc: 0.5442\n",
            "Epoch 5/120\n",
            "80/80 [==============================] - 0s 6ms/step - loss: 0.0057 - acc: 0.9996 - val_loss: 2.3043 - val_acc: 0.5495\n",
            "Epoch 6/120\n",
            "80/80 [==============================] - 1s 14ms/step - loss: 0.0055 - acc: 0.9996 - val_loss: 2.1106 - val_acc: 0.5742\n",
            "Epoch 7/120\n",
            "80/80 [==============================] - 1s 7ms/step - loss: 0.0058 - acc: 0.9997 - val_loss: 2.2408 - val_acc: 0.5477\n",
            "Epoch 8/120\n",
            "80/80 [==============================] - 1s 6ms/step - loss: 0.0090 - acc: 0.9995 - val_loss: 2.1453 - val_acc: 0.5654\n",
            "Epoch 9/120\n",
            "80/80 [==============================] - 1s 6ms/step - loss: 0.0108 - acc: 0.9993 - val_loss: 2.3702 - val_acc: 0.5371\n",
            "Epoch 10/120\n",
            "80/80 [==============================] - 0s 6ms/step - loss: 0.0276 - acc: 0.9941 - val_loss: 2.6127 - val_acc: 0.5194\n",
            "Epoch 11/120\n",
            "80/80 [==============================] - 1s 6ms/step - loss: 0.0338 - acc: 0.9922 - val_loss: 2.9703 - val_acc: 0.5274\n",
            "Epoch 12/120\n",
            "80/80 [==============================] - 0s 6ms/step - loss: 0.0511 - acc: 0.9932 - val_loss: 2.6556 - val_acc: 0.5530\n",
            "Epoch 13/120\n",
            "80/80 [==============================] - 1s 6ms/step - loss: 0.0160 - acc: 0.9964 - val_loss: 2.7031 - val_acc: 0.5574\n",
            "Epoch 14/120\n",
            "80/80 [==============================] - 0s 6ms/step - loss: 0.0098 - acc: 0.9984 - val_loss: 2.6655 - val_acc: 0.5565\n",
            "Epoch 15/120\n",
            "80/80 [==============================] - 1s 7ms/step - loss: 0.0024 - acc: 0.9998 - val_loss: 2.6287 - val_acc: 0.5822\n",
            "Epoch 16/120\n",
            "80/80 [==============================] - 0s 6ms/step - loss: 0.0016 - acc: 0.9998 - val_loss: 2.6055 - val_acc: 0.5786\n"
          ]
        }
      ]
    },
    {
      "cell_type": "code",
      "source": [
        "output_test = model.predict(x_test)\n",
        "test_casses = np.argmax(output_test, axis=-1)\n",
        "print(\"test accuracy:\", np.mean(test_casses == y_test))"
      ],
      "metadata": {
        "colab": {
          "base_uri": "https://localhost:8080/"
        },
        "id": "zhNU5-GR-_lv",
        "outputId": "938761cd-c392-458c-e7b0-444cfb5fc220"
      },
      "execution_count": null,
      "outputs": [
        {
          "output_type": "stream",
          "name": "stdout",
          "text": [
            "236/236 [==============================] - 0s 2ms/step\n",
            "test accuracy: 0.47729686670207117\n"
          ]
        }
      ]
    },
    {
      "cell_type": "code",
      "source": [
        "plt.plot(history.history['acc'], label=\"Training acc\")\n",
        "plt.plot(history.history['val_acc'], label =\"Validation acc\")\n",
        "plt.title(\"accuracy of model\")\n",
        "plt.ylabel(\"Accuracy\")\n",
        "plt.ylabel(\"Epoch\")\n",
        "plt.legend()\n",
        "plt.show()"
      ],
      "metadata": {
        "colab": {
          "base_uri": "https://localhost:8080/",
          "height": 281
        },
        "id": "Glku_ikc_EXQ",
        "outputId": "41c17bec-8a66-49f0-9056-42374f8a72c8"
      },
      "execution_count": null,
      "outputs": [
        {
          "output_type": "display_data",
          "data": {
            "text/plain": [
              "<Figure size 432x288 with 1 Axes>"
            ],
            "image/png": "[encoded data removed]"
          },
          "metadata": {
            "needs_background": "light"
          }
        }
      ]
    },
    {
      "cell_type": "code",
      "source": [
        "model = Sequential()\n",
        "model.add(pretrained_embedding_layer);\n",
        "model.add(Flatten());   \n",
        "model.add(Dense(64, activation='relu')); \n",
        "model.add(Dropout(0.4));\n",
        "model.add(Dense(N_CLASSES, activation='softmax'));       \n",
        "model.summary()  "
      ],
      "metadata": {
        "colab": {
          "base_uri": "https://localhost:8080/"
        },
        "id": "3GXjQYlWA3vL",
        "outputId": "d33d3f9a-d4ed-4109-9ca1-bc246708599c"
      },
      "execution_count": null,
      "outputs": [
        {
          "output_type": "stream",
          "name": "stdout",
          "text": [
            "Model: \"sequential_7\"\n",
            "_________________________________________________________________\n",
            " Layer (type)                Output Shape              Param #   \n",
            "=================================================================\n",
            " embedding_4 (Embedding)     (None, 1000, 50)          1000000   \n",
            "                                                                 \n",
            " flatten_5 (Flatten)         (None, 50000)             0         \n",
            "                                                                 \n",
            " dense_14 (Dense)            (None, 64)                3200064   \n",
            "                                                                 \n",
            " dropout_2 (Dropout)         (None, 64)                0         \n",
            "                                                                 \n",
            " dense_15 (Dense)            (None, 20)                1300      \n",
            "                                                                 \n",
            "=================================================================\n",
            "Total params: 4,201,364\n",
            "Trainable params: 4,201,364\n",
            "Non-trainable params: 0\n",
            "_________________________________________________________________\n"
          ]
        }
      ]
    },
    {
      "cell_type": "code",
      "source": [
        "model.compile(loss='categorical_crossentropy',\n",
        "              optimizer='adam', metrics=['acc'])"
      ],
      "metadata": {
        "id": "2NxRx2RnA9BB"
      },
      "execution_count": null,
      "outputs": []
    },
    {
      "cell_type": "code",
      "source": [
        "history=model.fit(x_train, y_train, validation_split=0.1,\n",
        "          epochs=120, batch_size=128)"
      ],
      "metadata": {
        "colab": {
          "base_uri": "https://localhost:8080/"
        },
        "id": "wtx7hrIRBEBe",
        "outputId": "a2445bcc-b632-47aa-a44b-db3c23a8395d"
      },
      "execution_count": null,
      "outputs": [
        {
          "output_type": "stream",
          "name": "stdout",
          "text": [
            "Epoch 1/120\n",
            "80/80 [==============================] - 1s 10ms/step - loss: 2.6732 - acc: 0.1736 - val_loss: 2.0908 - val_acc: 0.3790\n",
            "Epoch 2/120\n",
            "80/80 [==============================] - 1s 7ms/step - loss: 1.6830 - acc: 0.4690 - val_loss: 1.5119 - val_acc: 0.5336\n",
            "Epoch 3/120\n",
            "80/80 [==============================] - 1s 6ms/step - loss: 1.0813 - acc: 0.6548 - val_loss: 1.4020 - val_acc: 0.5477\n",
            "Epoch 4/120\n",
            "80/80 [==============================] - 1s 6ms/step - loss: 0.7515 - acc: 0.7622 - val_loss: 1.2106 - val_acc: 0.6087\n",
            "Epoch 5/120\n",
            "80/80 [==============================] - 1s 6ms/step - loss: 0.5130 - acc: 0.8430 - val_loss: 1.1897 - val_acc: 0.6272\n",
            "Epoch 6/120\n",
            "80/80 [==============================] - 1s 6ms/step - loss: 0.4067 - acc: 0.8731 - val_loss: 1.2169 - val_acc: 0.6352\n",
            "Epoch 7/120\n",
            "80/80 [==============================] - 1s 6ms/step - loss: 0.3260 - acc: 0.8986 - val_loss: 1.2234 - val_acc: 0.6387\n",
            "Epoch 8/120\n",
            "80/80 [==============================] - 0s 6ms/step - loss: 0.2688 - acc: 0.9198 - val_loss: 1.1949 - val_acc: 0.6343\n",
            "Epoch 9/120\n",
            "80/80 [==============================] - 1s 7ms/step - loss: 0.2314 - acc: 0.9289 - val_loss: 1.2829 - val_acc: 0.6360\n",
            "Epoch 10/120\n",
            "80/80 [==============================] - 1s 7ms/step - loss: 0.2073 - acc: 0.9340 - val_loss: 1.2315 - val_acc: 0.6519\n",
            "Epoch 11/120\n",
            "80/80 [==============================] - 0s 6ms/step - loss: 0.1904 - acc: 0.9446 - val_loss: 1.3223 - val_acc: 0.6325\n",
            "Epoch 12/120\n",
            "80/80 [==============================] - 0s 6ms/step - loss: 0.1600 - acc: 0.9496 - val_loss: 1.2990 - val_acc: 0.6493\n",
            "Epoch 13/120\n",
            "80/80 [==============================] - 1s 6ms/step - loss: 0.1521 - acc: 0.9509 - val_loss: 1.3254 - val_acc: 0.6511\n",
            "Epoch 14/120\n",
            "80/80 [==============================] - 1s 6ms/step - loss: 0.1319 - acc: 0.9575 - val_loss: 1.3843 - val_acc: 0.6572\n",
            "Epoch 15/120\n",
            "80/80 [==============================] - 0s 6ms/step - loss: 0.1355 - acc: 0.9588 - val_loss: 1.3165 - val_acc: 0.6537\n",
            "Epoch 16/120\n",
            "80/80 [==============================] - 1s 6ms/step - loss: 0.1245 - acc: 0.9598 - val_loss: 1.3888 - val_acc: 0.6696\n",
            "Epoch 17/120\n",
            "80/80 [==============================] - 1s 6ms/step - loss: 0.1157 - acc: 0.9639 - val_loss: 1.3491 - val_acc: 0.6661\n",
            "Epoch 18/120\n",
            "80/80 [==============================] - 1s 7ms/step - loss: 0.1109 - acc: 0.9631 - val_loss: 1.4255 - val_acc: 0.6643\n",
            "Epoch 19/120\n",
            "80/80 [==============================] - 1s 6ms/step - loss: 0.0992 - acc: 0.9682 - val_loss: 1.4007 - val_acc: 0.6749\n",
            "Epoch 20/120\n",
            "80/80 [==============================] - 1s 6ms/step - loss: 0.0968 - acc: 0.9698 - val_loss: 1.3784 - val_acc: 0.6608\n",
            "Epoch 21/120\n",
            "80/80 [==============================] - 1s 6ms/step - loss: 0.0919 - acc: 0.9704 - val_loss: 1.4736 - val_acc: 0.6687\n",
            "Epoch 22/120\n",
            "80/80 [==============================] - 1s 6ms/step - loss: 0.0866 - acc: 0.9728 - val_loss: 1.5182 - val_acc: 0.6670\n",
            "Epoch 23/120\n",
            "80/80 [==============================] - 0s 6ms/step - loss: 0.0896 - acc: 0.9724 - val_loss: 1.4963 - val_acc: 0.6811\n",
            "Epoch 24/120\n",
            "80/80 [==============================] - 1s 7ms/step - loss: 0.0835 - acc: 0.9731 - val_loss: 1.6019 - val_acc: 0.6670\n",
            "Epoch 25/120\n",
            "80/80 [==============================] - 1s 6ms/step - loss: 0.0892 - acc: 0.9715 - val_loss: 1.5358 - val_acc: 0.6723\n",
            "Epoch 26/120\n",
            "80/80 [==============================] - 1s 6ms/step - loss: 0.0780 - acc: 0.9745 - val_loss: 1.5622 - val_acc: 0.6678\n",
            "Epoch 27/120\n",
            "80/80 [==============================] - 1s 6ms/step - loss: 0.0735 - acc: 0.9761 - val_loss: 1.6079 - val_acc: 0.6740\n",
            "Epoch 28/120\n",
            "80/80 [==============================] - 1s 7ms/step - loss: 0.0663 - acc: 0.9769 - val_loss: 1.6281 - val_acc: 0.6661\n",
            "Epoch 29/120\n",
            "80/80 [==============================] - 0s 6ms/step - loss: 0.0698 - acc: 0.9769 - val_loss: 1.7292 - val_acc: 0.6634\n",
            "Epoch 30/120\n",
            "80/80 [==============================] - 1s 6ms/step - loss: 0.0714 - acc: 0.9777 - val_loss: 1.6042 - val_acc: 0.6740\n",
            "Epoch 31/120\n",
            "80/80 [==============================] - 0s 6ms/step - loss: 0.0684 - acc: 0.9789 - val_loss: 1.6744 - val_acc: 0.6670\n",
            "Epoch 32/120\n",
            "80/80 [==============================] - 0s 6ms/step - loss: 0.0737 - acc: 0.9770 - val_loss: 1.6367 - val_acc: 0.6687\n",
            "Epoch 33/120\n",
            "80/80 [==============================] - 1s 7ms/step - loss: 0.0747 - acc: 0.9754 - val_loss: 1.6554 - val_acc: 0.6776\n",
            "Epoch 34/120\n",
            "80/80 [==============================] - 1s 6ms/step - loss: 0.0643 - acc: 0.9781 - val_loss: 1.6071 - val_acc: 0.6829\n",
            "Epoch 35/120\n",
            "80/80 [==============================] - 0s 6ms/step - loss: 0.0652 - acc: 0.9797 - val_loss: 1.6098 - val_acc: 0.6908\n",
            "Epoch 36/120\n",
            "80/80 [==============================] - 1s 6ms/step - loss: 0.0579 - acc: 0.9807 - val_loss: 1.6332 - val_acc: 0.6811\n",
            "Epoch 37/120\n",
            "80/80 [==============================] - 1s 7ms/step - loss: 0.0576 - acc: 0.9801 - val_loss: 1.7263 - val_acc: 0.6767\n",
            "Epoch 38/120\n",
            "80/80 [==============================] - 1s 6ms/step - loss: 0.0611 - acc: 0.9789 - val_loss: 1.7359 - val_acc: 0.6802\n",
            "Epoch 39/120\n",
            "80/80 [==============================] - 0s 6ms/step - loss: 0.0631 - acc: 0.9805 - val_loss: 1.6847 - val_acc: 0.6793\n",
            "Epoch 40/120\n",
            "80/80 [==============================] - 0s 6ms/step - loss: 0.0679 - acc: 0.9798 - val_loss: 1.7463 - val_acc: 0.6767\n",
            "Epoch 41/120\n",
            "80/80 [==============================] - 0s 6ms/step - loss: 0.0549 - acc: 0.9833 - val_loss: 1.7395 - val_acc: 0.6829\n",
            "Epoch 42/120\n",
            "80/80 [==============================] - 1s 6ms/step - loss: 0.0577 - acc: 0.9816 - val_loss: 1.8672 - val_acc: 0.6776\n",
            "Epoch 43/120\n",
            "80/80 [==============================] - 0s 6ms/step - loss: 0.0583 - acc: 0.9814 - val_loss: 1.8969 - val_acc: 0.6846\n",
            "Epoch 44/120\n",
            "80/80 [==============================] - 0s 6ms/step - loss: 0.0484 - acc: 0.9830 - val_loss: 1.8696 - val_acc: 0.6731\n",
            "Epoch 45/120\n",
            "80/80 [==============================] - 0s 6ms/step - loss: 0.0608 - acc: 0.9802 - val_loss: 1.8023 - val_acc: 0.6820\n",
            "Epoch 46/120\n",
            "80/80 [==============================] - 0s 6ms/step - loss: 0.0510 - acc: 0.9850 - val_loss: 1.9418 - val_acc: 0.6820\n",
            "Epoch 47/120\n",
            "80/80 [==============================] - 0s 6ms/step - loss: 0.0559 - acc: 0.9820 - val_loss: 1.8446 - val_acc: 0.6802\n",
            "Epoch 48/120\n",
            "80/80 [==============================] - 1s 7ms/step - loss: 0.0614 - acc: 0.9823 - val_loss: 1.8082 - val_acc: 0.6829\n",
            "Epoch 49/120\n",
            "80/80 [==============================] - 1s 7ms/step - loss: 0.0639 - acc: 0.9823 - val_loss: 1.8714 - val_acc: 0.6784\n",
            "Epoch 50/120\n",
            "80/80 [==============================] - 1s 6ms/step - loss: 0.0640 - acc: 0.9823 - val_loss: 1.7197 - val_acc: 0.6749\n",
            "Epoch 51/120\n",
            "80/80 [==============================] - 0s 6ms/step - loss: 0.0572 - acc: 0.9839 - val_loss: 1.8547 - val_acc: 0.6714\n",
            "Epoch 52/120\n",
            "80/80 [==============================] - 0s 6ms/step - loss: 0.0467 - acc: 0.9864 - val_loss: 1.8417 - val_acc: 0.6970\n",
            "Epoch 53/120\n",
            "80/80 [==============================] - 0s 6ms/step - loss: 0.0476 - acc: 0.9867 - val_loss: 1.8913 - val_acc: 0.6829\n",
            "Epoch 54/120\n",
            "80/80 [==============================] - 1s 6ms/step - loss: 0.0509 - acc: 0.9838 - val_loss: 1.9629 - val_acc: 0.6820\n",
            "Epoch 55/120\n",
            "80/80 [==============================] - 1s 7ms/step - loss: 0.0466 - acc: 0.9847 - val_loss: 1.9507 - val_acc: 0.6837\n",
            "Epoch 56/120\n",
            "80/80 [==============================] - 0s 6ms/step - loss: 0.0530 - acc: 0.9840 - val_loss: 2.1527 - val_acc: 0.6776\n",
            "Epoch 57/120\n",
            "80/80 [==============================] - 0s 6ms/step - loss: 0.0484 - acc: 0.9844 - val_loss: 1.9567 - val_acc: 0.6811\n",
            "Epoch 58/120\n",
            "80/80 [==============================] - 1s 6ms/step - loss: 0.0515 - acc: 0.9851 - val_loss: 2.0235 - val_acc: 0.6740\n",
            "Epoch 59/120\n",
            "80/80 [==============================] - 1s 7ms/step - loss: 0.0473 - acc: 0.9846 - val_loss: 1.9636 - val_acc: 0.6917\n",
            "Epoch 60/120\n",
            "80/80 [==============================] - 1s 7ms/step - loss: 0.0490 - acc: 0.9848 - val_loss: 2.1615 - val_acc: 0.6670\n",
            "Epoch 61/120\n",
            "80/80 [==============================] - 0s 6ms/step - loss: 0.0468 - acc: 0.9863 - val_loss: 1.9752 - val_acc: 0.6864\n",
            "Epoch 62/120\n",
            "80/80 [==============================] - 1s 6ms/step - loss: 0.0515 - acc: 0.9860 - val_loss: 1.9803 - val_acc: 0.6926\n",
            "Epoch 63/120\n",
            "80/80 [==============================] - 0s 6ms/step - loss: 0.0593 - acc: 0.9829 - val_loss: 1.9662 - val_acc: 0.6873\n",
            "Epoch 64/120\n",
            "80/80 [==============================] - 1s 7ms/step - loss: 0.0429 - acc: 0.9857 - val_loss: 2.1448 - val_acc: 0.6846\n",
            "Epoch 65/120\n",
            "80/80 [==============================] - 0s 6ms/step - loss: 0.0517 - acc: 0.9843 - val_loss: 1.9015 - val_acc: 0.6988\n",
            "Epoch 66/120\n",
            "80/80 [==============================] - 1s 6ms/step - loss: 0.0532 - acc: 0.9855 - val_loss: 2.0294 - val_acc: 0.6882\n",
            "Epoch 67/120\n",
            "80/80 [==============================] - 0s 6ms/step - loss: 0.0469 - acc: 0.9861 - val_loss: 2.2991 - val_acc: 0.6882\n",
            "Epoch 68/120\n",
            "80/80 [==============================] - 1s 6ms/step - loss: 0.0533 - acc: 0.9854 - val_loss: 2.0273 - val_acc: 0.6855\n",
            "Epoch 69/120\n",
            "80/80 [==============================] - 0s 6ms/step - loss: 0.0565 - acc: 0.9861 - val_loss: 2.2910 - val_acc: 0.6740\n",
            "Epoch 70/120\n",
            "80/80 [==============================] - 1s 6ms/step - loss: 0.0440 - acc: 0.9852 - val_loss: 2.1532 - val_acc: 0.6890\n",
            "Epoch 71/120\n",
            "80/80 [==============================] - 0s 6ms/step - loss: 0.0493 - acc: 0.9874 - val_loss: 2.0950 - val_acc: 0.6882\n",
            "Epoch 72/120\n",
            "80/80 [==============================] - 1s 6ms/step - loss: 0.0464 - acc: 0.9866 - val_loss: 2.3169 - val_acc: 0.6882\n",
            "Epoch 73/120\n",
            "80/80 [==============================] - 0s 6ms/step - loss: 0.0489 - acc: 0.9865 - val_loss: 1.9637 - val_acc: 0.6926\n",
            "Epoch 74/120\n",
            "80/80 [==============================] - 1s 6ms/step - loss: 0.0479 - acc: 0.9891 - val_loss: 2.2467 - val_acc: 0.6890\n",
            "Epoch 75/120\n",
            "80/80 [==============================] - 0s 6ms/step - loss: 0.0397 - acc: 0.9869 - val_loss: 2.2437 - val_acc: 0.6970\n",
            "Epoch 76/120\n",
            "80/80 [==============================] - 1s 7ms/step - loss: 0.0537 - acc: 0.9875 - val_loss: 2.3004 - val_acc: 0.6926\n",
            "Epoch 77/120\n",
            "80/80 [==============================] - 1s 7ms/step - loss: 0.0637 - acc: 0.9845 - val_loss: 2.1771 - val_acc: 0.6996\n",
            "Epoch 78/120\n",
            "80/80 [==============================] - 1s 6ms/step - loss: 0.0575 - acc: 0.9864 - val_loss: 2.1331 - val_acc: 0.6864\n",
            "Epoch 79/120\n",
            "80/80 [==============================] - 0s 6ms/step - loss: 0.0394 - acc: 0.9893 - val_loss: 2.2277 - val_acc: 0.7014\n",
            "Epoch 80/120\n",
            "80/80 [==============================] - 1s 6ms/step - loss: 0.0371 - acc: 0.9879 - val_loss: 2.4698 - val_acc: 0.6917\n",
            "Epoch 81/120\n",
            "80/80 [==============================] - 0s 6ms/step - loss: 0.0515 - acc: 0.9854 - val_loss: 2.1884 - val_acc: 0.6908\n",
            "Epoch 82/120\n",
            "80/80 [==============================] - 1s 7ms/step - loss: 0.0446 - acc: 0.9877 - val_loss: 2.3627 - val_acc: 0.6935\n",
            "Epoch 83/120\n",
            "80/80 [==============================] - 0s 6ms/step - loss: 0.0586 - acc: 0.9885 - val_loss: 2.3107 - val_acc: 0.6952\n",
            "Epoch 84/120\n",
            "80/80 [==============================] - 1s 6ms/step - loss: 0.0481 - acc: 0.9883 - val_loss: 2.2077 - val_acc: 0.6988\n",
            "Epoch 85/120\n",
            "80/80 [==============================] - 0s 6ms/step - loss: 0.0500 - acc: 0.9878 - val_loss: 2.2095 - val_acc: 0.7032\n",
            "Epoch 86/120\n",
            "80/80 [==============================] - 1s 6ms/step - loss: 0.0421 - acc: 0.9894 - val_loss: 2.2317 - val_acc: 0.7094\n",
            "Epoch 87/120\n",
            "80/80 [==============================] - 0s 6ms/step - loss: 0.0365 - acc: 0.9896 - val_loss: 2.2169 - val_acc: 0.7094\n",
            "Epoch 88/120\n",
            "80/80 [==============================] - 0s 6ms/step - loss: 0.0429 - acc: 0.9904 - val_loss: 2.2470 - val_acc: 0.6996\n",
            "Epoch 89/120\n",
            "80/80 [==============================] - 0s 6ms/step - loss: 0.0366 - acc: 0.9896 - val_loss: 2.3928 - val_acc: 0.7102\n",
            "Epoch 90/120\n",
            "80/80 [==============================] - 1s 7ms/step - loss: 0.0339 - acc: 0.9915 - val_loss: 2.5115 - val_acc: 0.6988\n",
            "Epoch 91/120\n",
            "80/80 [==============================] - 1s 7ms/step - loss: 0.0395 - acc: 0.9893 - val_loss: 2.4646 - val_acc: 0.7094\n",
            "Epoch 92/120\n",
            "80/80 [==============================] - 1s 6ms/step - loss: 0.0475 - acc: 0.9886 - val_loss: 2.3947 - val_acc: 0.6961\n",
            "Epoch 93/120\n",
            "80/80 [==============================] - 0s 6ms/step - loss: 0.0361 - acc: 0.9902 - val_loss: 2.3740 - val_acc: 0.7111\n",
            "Epoch 94/120\n",
            "80/80 [==============================] - 1s 6ms/step - loss: 0.0430 - acc: 0.9899 - val_loss: 2.4720 - val_acc: 0.7032\n",
            "Epoch 95/120\n",
            "80/80 [==============================] - 0s 6ms/step - loss: 0.0432 - acc: 0.9900 - val_loss: 2.2421 - val_acc: 0.7111\n",
            "Epoch 96/120\n",
            "80/80 [==============================] - 1s 6ms/step - loss: 0.0413 - acc: 0.9912 - val_loss: 2.4305 - val_acc: 0.7085\n",
            "Epoch 97/120\n",
            "80/80 [==============================] - 1s 6ms/step - loss: 0.0681 - acc: 0.9892 - val_loss: 2.4273 - val_acc: 0.7067\n",
            "Epoch 98/120\n",
            "80/80 [==============================] - 1s 6ms/step - loss: 0.0557 - acc: 0.9892 - val_loss: 2.5028 - val_acc: 0.7005\n",
            "Epoch 99/120\n",
            "80/80 [==============================] - 0s 6ms/step - loss: 0.0422 - acc: 0.9908 - val_loss: 2.3483 - val_acc: 0.7129\n",
            "Epoch 100/120\n",
            "80/80 [==============================] - 1s 6ms/step - loss: 0.0377 - acc: 0.9906 - val_loss: 2.5350 - val_acc: 0.7014\n",
            "Epoch 101/120\n",
            "80/80 [==============================] - 0s 6ms/step - loss: 0.0418 - acc: 0.9891 - val_loss: 2.5102 - val_acc: 0.7085\n",
            "Epoch 102/120\n",
            "80/80 [==============================] - 1s 6ms/step - loss: 0.0350 - acc: 0.9916 - val_loss: 2.4450 - val_acc: 0.7191\n",
            "Epoch 103/120\n",
            "80/80 [==============================] - 0s 6ms/step - loss: 0.0464 - acc: 0.9902 - val_loss: 2.4660 - val_acc: 0.7094\n",
            "Epoch 104/120\n",
            "80/80 [==============================] - 0s 6ms/step - loss: 0.0375 - acc: 0.9905 - val_loss: 2.4847 - val_acc: 0.7138\n",
            "Epoch 105/120\n",
            "80/80 [==============================] - 0s 6ms/step - loss: 0.0405 - acc: 0.9914 - val_loss: 2.5990 - val_acc: 0.7217\n",
            "Epoch 106/120\n",
            "80/80 [==============================] - 0s 6ms/step - loss: 0.0418 - acc: 0.9902 - val_loss: 2.5688 - val_acc: 0.7173\n",
            "Epoch 107/120\n",
            "80/80 [==============================] - 1s 7ms/step - loss: 0.0431 - acc: 0.9902 - val_loss: 2.3326 - val_acc: 0.7200\n",
            "Epoch 108/120\n",
            "80/80 [==============================] - 1s 6ms/step - loss: 0.0276 - acc: 0.9924 - val_loss: 2.4364 - val_acc: 0.7111\n",
            "Epoch 109/120\n",
            "80/80 [==============================] - 0s 6ms/step - loss: 0.0590 - acc: 0.9891 - val_loss: 2.7138 - val_acc: 0.7217\n",
            "Epoch 110/120\n",
            "80/80 [==============================] - 1s 6ms/step - loss: 0.0236 - acc: 0.9927 - val_loss: 2.6207 - val_acc: 0.7226\n",
            "Epoch 111/120\n",
            "80/80 [==============================] - 1s 6ms/step - loss: 0.0366 - acc: 0.9905 - val_loss: 2.7284 - val_acc: 0.7129\n",
            "Epoch 112/120\n",
            "80/80 [==============================] - 1s 7ms/step - loss: 0.0283 - acc: 0.9926 - val_loss: 2.5837 - val_acc: 0.7253\n",
            "Epoch 113/120\n",
            "80/80 [==============================] - 1s 6ms/step - loss: 0.0390 - acc: 0.9918 - val_loss: 2.6325 - val_acc: 0.7182\n",
            "Epoch 114/120\n",
            "80/80 [==============================] - 1s 6ms/step - loss: 0.0342 - acc: 0.9913 - val_loss: 2.7716 - val_acc: 0.7147\n",
            "Epoch 115/120\n",
            "80/80 [==============================] - 1s 6ms/step - loss: 0.0324 - acc: 0.9918 - val_loss: 2.6522 - val_acc: 0.7173\n",
            "Epoch 116/120\n",
            "80/80 [==============================] - 1s 7ms/step - loss: 0.0307 - acc: 0.9929 - val_loss: 2.8506 - val_acc: 0.7058\n",
            "Epoch 117/120\n",
            "80/80 [==============================] - 1s 6ms/step - loss: 0.0242 - acc: 0.9941 - val_loss: 2.7545 - val_acc: 0.7341\n",
            "Epoch 118/120\n",
            "80/80 [==============================] - 1s 7ms/step - loss: 0.0428 - acc: 0.9918 - val_loss: 2.6676 - val_acc: 0.7120\n",
            "Epoch 119/120\n",
            "80/80 [==============================] - 1s 7ms/step - loss: 0.0337 - acc: 0.9914 - val_loss: 2.6891 - val_acc: 0.7182\n",
            "Epoch 120/120\n",
            "80/80 [==============================] - 1s 6ms/step - loss: 0.0278 - acc: 0.9927 - val_loss: 2.7662 - val_acc: 0.7129\n"
          ]
        }
      ]
    },
    {
      "cell_type": "code",
      "source": [
        "output_test = model.predict(x_test)\n",
        "test_casses = np.argmax(output_test, axis=-1)\n",
        "print(\"test accuracy:\", np.mean(test_casses == y_test))"
      ],
      "metadata": {
        "colab": {
          "base_uri": "https://localhost:8080/"
        },
        "id": "LIhT-SRNBecr",
        "outputId": "7cc58202-b65b-4c3b-f8fa-fbf04b800dd1"
      },
      "execution_count": null,
      "outputs": [
        {
          "output_type": "stream",
          "name": "stdout",
          "text": [
            "236/236 [==============================] - 1s 4ms/step\n",
            "test accuracy: 0.6344928305894849\n"
          ]
        }
      ]
    },
    {
      "cell_type": "code",
      "source": [
        "plt.plot(history.history['acc'], label=\"Training acc\")\n",
        "plt.plot(history.history['val_acc'], label =\"Validation acc\")\n",
        "plt.title(\"accuracy of model\")\n",
        "plt.ylabel(\"Accuracy\")\n",
        "plt.ylabel(\"Epoch\")\n",
        "plt.legend()\n",
        "plt.show()"
      ],
      "metadata": {
        "colab": {
          "base_uri": "https://localhost:8080/",
          "height": 281
        },
        "id": "6ONWFnN-BiNm",
        "outputId": "eeeef1a1-4e9a-405e-9e7d-4a0857c3d36a"
      },
      "execution_count": null,
      "outputs": [
        {
          "output_type": "display_data",
          "data": {
            "text/plain": [
              "<Figure size 432x288 with 1 Axes>"
            ],
            "image/png": "[encoded data removed]"
          },
          "metadata": {
            "needs_background": "light"
          }
        }
      ]
    },
    {
      "cell_type": "code",
      "source": [
        "plt.plot(history.history['loss'], label=\"Training loss\")\n",
        "plt.plot(history.history['val_loss'], label =\"Validation loss\")\n",
        "plt.title(\"loss of model\")\n",
        "plt.ylabel(\"Loss\")\n",
        "plt.ylabel(\"Epoch\")\n",
        "plt.legend()\n",
        "plt.show()"
      ],
      "metadata": {
        "colab": {
          "base_uri": "https://localhost:8080/",
          "height": 281
        },
        "id": "FmH9yycnBqzC",
        "outputId": "c550bd6c-d4ae-43bf-bfa2-b73808a5cb6a"
      },
      "execution_count": null,
      "outputs": [
        {
          "output_type": "display_data",
          "data": {
            "text/plain": [
              "<Figure size 432x288 with 1 Axes>"
            ],
            "image/png": "[encoded data removed]"
          },
          "metadata": {
            "needs_background": "light"
          }
        }
      ]
    },
    {
      "cell_type": "code",
      "source": [
        "model = Sequential()\n",
        "model.add(pretrained_embedding_layer);\n",
        "model.add(Flatten()); \n",
        "model.add(Dropout(0.4));  \n",
        "model.add(Dense(64, activation='relu')); \n",
        "model.add(Dropout(0.4));\n",
        "model.add(Dense(N_CLASSES, activation='softmax'));       \n",
        "model.summary() "
      ],
      "metadata": {
        "colab": {
          "base_uri": "https://localhost:8080/"
        },
        "id": "uIwf4x0BCaWv",
        "outputId": "4f8fff69-5531-4707-fb26-fbb5d59e5699"
      },
      "execution_count": null,
      "outputs": [
        {
          "output_type": "stream",
          "name": "stdout",
          "text": [
            "Model: \"sequential_8\"\n",
            "_________________________________________________________________\n",
            " Layer (type)                Output Shape              Param #   \n",
            "=================================================================\n",
            " embedding_4 (Embedding)     (None, 1000, 50)          1000000   \n",
            "                                                                 \n",
            " flatten_6 (Flatten)         (None, 50000)             0         \n",
            "                                                                 \n",
            " dropout_3 (Dropout)         (None, 50000)             0         \n",
            "                                                                 \n",
            " dense_16 (Dense)            (None, 64)                3200064   \n",
            "                                                                 \n",
            " dropout_4 (Dropout)         (None, 64)                0         \n",
            "                                                                 \n",
            " dense_17 (Dense)            (None, 20)                1300      \n",
            "                                                                 \n",
            "=================================================================\n",
            "Total params: 4,201,364\n",
            "Trainable params: 4,201,364\n",
            "Non-trainable params: 0\n",
            "_________________________________________________________________\n"
          ]
        }
      ]
    },
    {
      "cell_type": "code",
      "source": [
        "model.compile(loss='categorical_crossentropy',\n",
        "              optimizer='adam', metrics=['acc'])"
      ],
      "metadata": {
        "id": "TTykIj-HCgo3"
      },
      "execution_count": null,
      "outputs": []
    },
    {
      "cell_type": "code",
      "source": [
        "history=model.fit(x_train, y_train, validation_split=0.1,\n",
        "          epochs=120, batch_size=128, callbacks=callbacks)"
      ],
      "metadata": {
        "colab": {
          "base_uri": "https://localhost:8080/"
        },
        "id": "CN4kQzZXCmq0",
        "outputId": "a6edcba9-4433-46c2-f301-c206e3134242"
      },
      "execution_count": null,
      "outputs": [
        {
          "output_type": "stream",
          "name": "stdout",
          "text": [
            "Epoch 1/120\n",
            "80/80 [==============================] - 2s 20ms/step - loss: 1.7737 - acc: 0.4640 - val_loss: 0.9654 - val_acc: 0.7270\n",
            "Epoch 2/120\n",
            "80/80 [==============================] - 1s 17ms/step - loss: 0.5341 - acc: 0.8431 - val_loss: 0.8188 - val_acc: 0.7491\n",
            "Epoch 3/120\n",
            "80/80 [==============================] - 1s 18ms/step - loss: 0.2881 - acc: 0.9197 - val_loss: 0.7794 - val_acc: 0.7527\n",
            "Epoch 4/120\n",
            "80/80 [==============================] - 1s 8ms/step - loss: 0.1947 - acc: 0.9465 - val_loss: 0.7907 - val_acc: 0.7553\n",
            "Epoch 5/120\n",
            "80/80 [==============================] - 1s 8ms/step - loss: 0.1493 - acc: 0.9586 - val_loss: 0.8044 - val_acc: 0.7580\n",
            "Epoch 6/120\n",
            "80/80 [==============================] - 1s 8ms/step - loss: 0.1234 - acc: 0.9660 - val_loss: 0.8041 - val_acc: 0.7588\n",
            "Epoch 7/120\n",
            "80/80 [==============================] - 1s 8ms/step - loss: 0.1042 - acc: 0.9733 - val_loss: 0.8498 - val_acc: 0.7509\n",
            "Epoch 8/120\n",
            "80/80 [==============================] - 1s 8ms/step - loss: 0.0840 - acc: 0.9769 - val_loss: 0.8261 - val_acc: 0.7571\n",
            "Epoch 9/120\n",
            "80/80 [==============================] - 1s 8ms/step - loss: 0.0823 - acc: 0.9777 - val_loss: 0.8540 - val_acc: 0.7535\n",
            "Epoch 10/120\n",
            "80/80 [==============================] - 1s 8ms/step - loss: 0.0704 - acc: 0.9825 - val_loss: 0.8240 - val_acc: 0.7597\n",
            "Epoch 11/120\n",
            "80/80 [==============================] - 1s 8ms/step - loss: 0.0658 - acc: 0.9808 - val_loss: 0.8309 - val_acc: 0.7677\n",
            "Epoch 12/120\n",
            "80/80 [==============================] - 1s 8ms/step - loss: 0.0683 - acc: 0.9807 - val_loss: 0.8613 - val_acc: 0.7562\n",
            "Epoch 13/120\n",
            "80/80 [==============================] - 1s 8ms/step - loss: 0.0747 - acc: 0.9821 - val_loss: 0.8550 - val_acc: 0.7606\n"
          ]
        }
      ]
    },
    {
      "cell_type": "code",
      "source": [
        "output_test = model.predict(x_test)\n",
        "test_casses = np.argmax(output_test, axis=-1)\n",
        "print(\"test accuracy:\", np.mean(test_casses == y_test))"
      ],
      "metadata": {
        "colab": {
          "base_uri": "https://localhost:8080/"
        },
        "id": "etEmmr4mCt9m",
        "outputId": "9dabe8b6-f26b-4d08-e233-cc9482873354"
      },
      "execution_count": null,
      "outputs": [
        {
          "output_type": "stream",
          "name": "stdout",
          "text": [
            "236/236 [==============================] - 0s 2ms/step\n",
            "test accuracy: 0.694105151354222\n"
          ]
        }
      ]
    },
    {
      "cell_type": "code",
      "source": [
        "plt.plot(history.history['acc'], label=\"Training acc\")\n",
        "plt.plot(history.history['val_acc'], label =\"Validation acc\")\n",
        "plt.title(\"accuracy of model\")\n",
        "plt.ylabel(\"Accuracy\")\n",
        "plt.ylabel(\"Epoch\")\n",
        "plt.legend()\n",
        "plt.show()"
      ],
      "metadata": {
        "colab": {
          "base_uri": "https://localhost:8080/",
          "height": 281
        },
        "id": "KjZuaYFlCu5B",
        "outputId": "2709ed74-fec1-43e7-9165-f37a9ade1635"
      },
      "execution_count": null,
      "outputs": [
        {
          "output_type": "display_data",
          "data": {
            "text/plain": [
              "<Figure size 432x288 with 1 Axes>"
            ],
            "image/png": "[encoded data removed]"
          },
          "metadata": {
            "needs_background": "light"
          }
        }
      ]
    },
    {
      "cell_type": "code",
      "source": [
        "plt.plot(history.history['loss'], label=\"Training loss\")\n",
        "plt.plot(history.history['val_loss'], label =\"Validation loss\")\n",
        "plt.title(\"loss of model\")\n",
        "plt.ylabel(\"Loss\")\n",
        "plt.ylabel(\"Epoch\")\n",
        "plt.legend()\n",
        "plt.show()"
      ],
      "metadata": {
        "colab": {
          "base_uri": "https://localhost:8080/",
          "height": 281
        },
        "id": "7YgFECIHC0RG",
        "outputId": "82b214ff-dc5c-41b5-e3d0-bc538c25973f"
      },
      "execution_count": null,
      "outputs": [
        {
          "output_type": "display_data",
          "data": {
            "text/plain": [
              "<Figure size 432x288 with 1 Axes>"
            ],
            "image/png": "[encoded data removed]"
          },
          "metadata": {
            "needs_background": "light"
          }
        }
      ]
    },
    {
      "cell_type": "markdown",
      "source": [
        "Trainable embedding layer"
      ],
      "metadata": {
        "id": "2UkoArLUE185"
      }
    },
    {
      "cell_type": "code",
      "source": [
        "model = Sequential()\n",
        "model.add(pretrained_embedding_layer);\n",
        "model.add(Flatten()); \n",
        "model.add(Dropout(0.4));  \n",
        "model.add(Dense(64, activation='relu')); \n",
        "model.add(Dropout(0.4));\n",
        "model.add(Dense(N_CLASSES, activation='softmax'));       \n",
        "model.summary() \n",
        "\n",
        "\n",
        "model.layers[1].trainable=True\n"
      ],
      "metadata": {
        "colab": {
          "base_uri": "https://localhost:8080/"
        },
        "id": "KUDgplDLEDX_",
        "outputId": "3a6674aa-183c-4d2e-c17c-49012fb05daa"
      },
      "execution_count": null,
      "outputs": [
        {
          "output_type": "stream",
          "name": "stdout",
          "text": [
            "Model: \"sequential_9\"\n",
            "_________________________________________________________________\n",
            " Layer (type)                Output Shape              Param #   \n",
            "=================================================================\n",
            " embedding_4 (Embedding)     (None, 1000, 50)          1000000   \n",
            "                                                                 \n",
            " flatten_7 (Flatten)         (None, 50000)             0         \n",
            "                                                                 \n",
            " dropout_5 (Dropout)         (None, 50000)             0         \n",
            "                                                                 \n",
            " dense_18 (Dense)            (None, 64)                3200064   \n",
            "                                                                 \n",
            " dropout_6 (Dropout)         (None, 64)                0         \n",
            "                                                                 \n",
            " dense_19 (Dense)            (None, 20)                1300      \n",
            "                                                                 \n",
            "=================================================================\n",
            "Total params: 4,201,364\n",
            "Trainable params: 4,201,364\n",
            "Non-trainable params: 0\n",
            "_________________________________________________________________\n"
          ]
        }
      ]
    },
    {
      "cell_type": "code",
      "source": [
        "model.compile(loss='categorical_crossentropy',\n",
        "              optimizer='adam', metrics=['acc'])"
      ],
      "metadata": {
        "id": "0kpulNLCEQFS"
      },
      "execution_count": null,
      "outputs": []
    },
    {
      "cell_type": "code",
      "source": [
        "history=model.fit(x_train, y_train, validation_split=0.1,\n",
        "          epochs=120, batch_size=128, callbacks=callbacks)"
      ],
      "metadata": {
        "colab": {
          "base_uri": "https://localhost:8080/"
        },
        "id": "N49mrRJBENTN",
        "outputId": "bba6349d-9ae7-44e3-c368-e5ecfb8a1a26"
      },
      "execution_count": null,
      "outputs": [
        {
          "output_type": "stream",
          "name": "stdout",
          "text": [
            "Epoch 1/120\n",
            "80/80 [==============================] - 1s 10ms/step - loss: 1.6056 - acc: 0.5186 - val_loss: 0.9029 - val_acc: 0.7323\n",
            "Epoch 2/120\n",
            "80/80 [==============================] - 1s 18ms/step - loss: 0.4127 - acc: 0.8835 - val_loss: 0.7754 - val_acc: 0.7527\n",
            "Epoch 3/120\n",
            "80/80 [==============================] - 1s 8ms/step - loss: 0.2301 - acc: 0.9382 - val_loss: 0.7789 - val_acc: 0.7668\n",
            "Epoch 4/120\n",
            "80/80 [==============================] - 1s 8ms/step - loss: 0.1608 - acc: 0.9573 - val_loss: 0.7781 - val_acc: 0.7615\n",
            "Epoch 5/120\n",
            "80/80 [==============================] - 1s 8ms/step - loss: 0.1144 - acc: 0.9708 - val_loss: 0.8056 - val_acc: 0.7694\n",
            "Epoch 6/120\n",
            "80/80 [==============================] - 1s 8ms/step - loss: 0.1029 - acc: 0.9736 - val_loss: 0.8171 - val_acc: 0.7650\n",
            "Epoch 7/120\n",
            "80/80 [==============================] - 1s 8ms/step - loss: 0.0841 - acc: 0.9795 - val_loss: 0.7938 - val_acc: 0.7756\n",
            "Epoch 8/120\n",
            "80/80 [==============================] - 1s 8ms/step - loss: 0.0692 - acc: 0.9819 - val_loss: 0.8684 - val_acc: 0.7739\n",
            "Epoch 9/120\n",
            "80/80 [==============================] - 1s 9ms/step - loss: 0.0723 - acc: 0.9802 - val_loss: 0.8581 - val_acc: 0.7712\n",
            "Epoch 10/120\n",
            "80/80 [==============================] - 1s 9ms/step - loss: 0.0639 - acc: 0.9825 - val_loss: 0.8725 - val_acc: 0.7677\n",
            "Epoch 11/120\n",
            "80/80 [==============================] - 1s 8ms/step - loss: 0.0514 - acc: 0.9854 - val_loss: 0.9049 - val_acc: 0.7739\n",
            "Epoch 12/120\n",
            "80/80 [==============================] - 1s 8ms/step - loss: 0.0671 - acc: 0.9834 - val_loss: 0.9223 - val_acc: 0.7756\n"
          ]
        }
      ]
    },
    {
      "cell_type": "code",
      "source": [
        "output_test = model.predict(x_test)\n",
        "test_casses = np.argmax(output_test, axis=-1)\n",
        "print(\"test accuracy:\", np.mean(test_casses == y_test))"
      ],
      "metadata": {
        "colab": {
          "base_uri": "https://localhost:8080/"
        },
        "id": "7u7nGcwqEXjT",
        "outputId": "38196284-2d29-4997-8efe-5c4df42bda62"
      },
      "execution_count": null,
      "outputs": [
        {
          "output_type": "stream",
          "name": "stdout",
          "text": [
            "236/236 [==============================] - 0s 2ms/step\n",
            "test accuracy: 0.7092405735528412\n"
          ]
        }
      ]
    },
    {
      "cell_type": "code",
      "source": [
        "plt.plot(history.history['acc'], label=\"Training acc\")\n",
        "plt.plot(history.history['val_acc'], label =\"Validation acc\")\n",
        "plt.title(\"accuracy of model\")\n",
        "plt.ylabel(\"Accuracy\")\n",
        "plt.ylabel(\"Epoch\")\n",
        "plt.legend()\n",
        "plt.show()"
      ],
      "metadata": {
        "colab": {
          "base_uri": "https://localhost:8080/",
          "height": 281
        },
        "id": "YtdRlXBnEdrw",
        "outputId": "31ab0924-499a-4b17-cf83-93b2703677bf"
      },
      "execution_count": null,
      "outputs": [
        {
          "output_type": "display_data",
          "data": {
            "text/plain": [
              "<Figure size 432x288 with 1 Axes>"
            ],
            "image/png": "[encoded data removed]"
          },
          "metadata": {
            "needs_background": "light"
          }
        }
      ]
    },
    {
      "cell_type": "code",
      "source": [
        "plt.plot(history.history['loss'], label=\"Training loss\")\n",
        "plt.plot(history.history['val_loss'], label =\"Validation loss\")\n",
        "plt.title(\"loss of model\")\n",
        "plt.ylabel(\"Loss\")\n",
        "plt.ylabel(\"Epoch\")\n",
        "plt.legend()\n",
        "plt.show()"
      ],
      "metadata": {
        "colab": {
          "base_uri": "https://localhost:8080/",
          "height": 281
        },
        "id": "swgm5ZZDEgAJ",
        "outputId": "5d2fd55f-3ffb-4479-dca7-464e703761f8"
      },
      "execution_count": null,
      "outputs": [
        {
          "output_type": "display_data",
          "data": {
            "text/plain": [
              "<Figure size 432x288 with 1 Axes>"
            ],
            "image/png": "[encoded data removed]"
          },
          "metadata": {
            "needs_background": "light"
          }
        }
      ]
    },
    {
      "cell_type": "code",
      "source": [
        "\n",
        "model = Sequential()\n",
        "model.add(pretrained_embedding_layer);\n",
        "model.add(LSTM(64))    \n",
        "model.add(Dropout(0.4));  \n",
        "model.add(Dense(64, activation='relu')); \n",
        "model.add(Dropout(0.4));\n",
        "model.add(Dense(N_CLASSES, activation='softmax'));       \n",
        "model.summary() \n",
        "\n",
        "\n",
        "model.layers[1].trainable=True"
      ],
      "metadata": {
        "colab": {
          "base_uri": "https://localhost:8080/"
        },
        "id": "x8Rl1GpSFB5U",
        "outputId": "79c2c5d9-6a5e-4668-dbc3-5cb594eee66c"
      },
      "execution_count": null,
      "outputs": [
        {
          "output_type": "stream",
          "name": "stdout",
          "text": [
            "Model: \"sequential_10\"\n",
            "_________________________________________________________________\n",
            " Layer (type)                Output Shape              Param #   \n",
            "=================================================================\n",
            " embedding_4 (Embedding)     (None, 1000, 50)          1000000   \n",
            "                                                                 \n",
            " lstm_1 (LSTM)               (None, 64)                29440     \n",
            "                                                                 \n",
            " dropout_7 (Dropout)         (None, 64)                0         \n",
            "                                                                 \n",
            " dense_20 (Dense)            (None, 64)                4160      \n",
            "                                                                 \n",
            " dropout_8 (Dropout)         (None, 64)                0         \n",
            "                                                                 \n",
            " dense_21 (Dense)            (None, 20)                1300      \n",
            "                                                                 \n",
            "=================================================================\n",
            "Total params: 1,034,900\n",
            "Trainable params: 1,034,900\n",
            "Non-trainable params: 0\n",
            "_________________________________________________________________\n"
          ]
        }
      ]
    },
    {
      "cell_type": "code",
      "source": [
        "model.compile(loss='categorical_crossentropy',\n",
        "              optimizer='adam', metrics=['acc'])"
      ],
      "metadata": {
        "id": "r64tJ7WeFSH_"
      },
      "execution_count": null,
      "outputs": []
    },
    {
      "cell_type": "code",
      "source": [
        "history=model.fit(x_train, y_train, validation_split=0.1,\n",
        "          epochs=120, batch_size=128, callbacks=callbacks)"
      ],
      "metadata": {
        "colab": {
          "base_uri": "https://localhost:8080/"
        },
        "id": "IFSzb1CfFVhS",
        "outputId": "919a6f82-a8e2-450d-af71-3850fcebdacf"
      },
      "execution_count": null,
      "outputs": [
        {
          "output_type": "stream",
          "name": "stdout",
          "text": [
            "Epoch 1/120\n",
            "80/80 [==============================] - 6s 60ms/step - loss: 2.8078 - acc: 0.1456 - val_loss: 2.3197 - val_acc: 0.3057\n",
            "Epoch 2/120\n",
            "80/80 [==============================] - 4s 54ms/step - loss: 1.9733 - acc: 0.3607 - val_loss: 1.5955 - val_acc: 0.4806\n",
            "Epoch 3/120\n",
            "80/80 [==============================] - 4s 53ms/step - loss: 1.5852 - acc: 0.4751 - val_loss: 1.4285 - val_acc: 0.5345\n",
            "Epoch 4/120\n",
            "80/80 [==============================] - 4s 53ms/step - loss: 1.4207 - acc: 0.5338 - val_loss: 1.3218 - val_acc: 0.5601\n",
            "Epoch 5/120\n",
            "80/80 [==============================] - 4s 54ms/step - loss: 1.2167 - acc: 0.5981 - val_loss: 1.2294 - val_acc: 0.6219\n",
            "Epoch 6/120\n",
            "80/80 [==============================] - 4s 52ms/step - loss: 1.0758 - acc: 0.6537 - val_loss: 1.2182 - val_acc: 0.6360\n",
            "Epoch 7/120\n",
            "80/80 [==============================] - 4s 56ms/step - loss: 0.9701 - acc: 0.6899 - val_loss: 1.0792 - val_acc: 0.6731\n",
            "Epoch 8/120\n",
            "80/80 [==============================] - 5s 64ms/step - loss: 1.1293 - acc: 0.6566 - val_loss: 1.0958 - val_acc: 0.6723\n",
            "Epoch 9/120\n",
            "80/80 [==============================] - 4s 54ms/step - loss: 0.9054 - acc: 0.7181 - val_loss: 1.2218 - val_acc: 0.6405\n",
            "Epoch 10/120\n",
            "80/80 [==============================] - 4s 52ms/step - loss: 0.9264 - acc: 0.7206 - val_loss: 1.3343 - val_acc: 0.6131\n",
            "Epoch 11/120\n",
            "80/80 [==============================] - 4s 52ms/step - loss: 1.2295 - acc: 0.6406 - val_loss: 1.1321 - val_acc: 0.6466\n",
            "Epoch 12/120\n",
            "80/80 [==============================] - 4s 52ms/step - loss: 0.9489 - acc: 0.7107 - val_loss: 1.1467 - val_acc: 0.6572\n",
            "Epoch 13/120\n",
            "80/80 [==============================] - 4s 53ms/step - loss: 0.7312 - acc: 0.7821 - val_loss: 0.9957 - val_acc: 0.7129\n",
            "Epoch 14/120\n",
            "80/80 [==============================] - 4s 53ms/step - loss: 0.6241 - acc: 0.8121 - val_loss: 0.9788 - val_acc: 0.7253\n",
            "Epoch 15/120\n",
            "80/80 [==============================] - 4s 56ms/step - loss: 0.6475 - acc: 0.8189 - val_loss: 0.9726 - val_acc: 0.7226\n",
            "Epoch 16/120\n",
            "80/80 [==============================] - 6s 76ms/step - loss: 0.7363 - acc: 0.7806 - val_loss: 1.4027 - val_acc: 0.6104\n",
            "Epoch 17/120\n",
            "80/80 [==============================] - 6s 73ms/step - loss: 0.8673 - acc: 0.7302 - val_loss: 1.1314 - val_acc: 0.6829\n",
            "Epoch 18/120\n",
            "80/80 [==============================] - 6s 69ms/step - loss: 0.6235 - acc: 0.8132 - val_loss: 1.0158 - val_acc: 0.7032\n",
            "Epoch 19/120\n",
            "80/80 [==============================] - 5s 63ms/step - loss: 0.5019 - acc: 0.8527 - val_loss: 0.9652 - val_acc: 0.7420\n",
            "Epoch 20/120\n",
            "80/80 [==============================] - 6s 70ms/step - loss: 0.4243 - acc: 0.8781 - val_loss: 1.0024 - val_acc: 0.7500\n",
            "Epoch 21/120\n",
            "80/80 [==============================] - 5s 57ms/step - loss: 0.4107 - acc: 0.8807 - val_loss: 0.9924 - val_acc: 0.7606\n",
            "Epoch 22/120\n",
            "80/80 [==============================] - 4s 55ms/step - loss: 0.3643 - acc: 0.8997 - val_loss: 1.0098 - val_acc: 0.7606\n",
            "Epoch 23/120\n",
            "80/80 [==============================] - 4s 54ms/step - loss: 0.5165 - acc: 0.8596 - val_loss: 1.1627 - val_acc: 0.7332\n",
            "Epoch 24/120\n",
            "80/80 [==============================] - 4s 56ms/step - loss: 0.4136 - acc: 0.8806 - val_loss: 0.9531 - val_acc: 0.7747\n",
            "Epoch 25/120\n",
            "80/80 [==============================] - 4s 54ms/step - loss: 0.6637 - acc: 0.8019 - val_loss: 1.0140 - val_acc: 0.7076\n",
            "Epoch 26/120\n",
            "80/80 [==============================] - 4s 55ms/step - loss: 0.5490 - acc: 0.8212 - val_loss: 0.9722 - val_acc: 0.7420\n",
            "Epoch 27/120\n",
            "80/80 [==============================] - 5s 57ms/step - loss: 0.4014 - acc: 0.8682 - val_loss: 0.9421 - val_acc: 0.7571\n",
            "Epoch 28/120\n",
            "80/80 [==============================] - 4s 56ms/step - loss: 0.5026 - acc: 0.8469 - val_loss: 1.0413 - val_acc: 0.7323\n",
            "Epoch 29/120\n",
            "80/80 [==============================] - 4s 56ms/step - loss: 0.4178 - acc: 0.8659 - val_loss: 1.1150 - val_acc: 0.7456\n",
            "Epoch 30/120\n",
            "80/80 [==============================] - 4s 55ms/step - loss: 0.4018 - acc: 0.8723 - val_loss: 1.0728 - val_acc: 0.7633\n",
            "Epoch 31/120\n",
            "80/80 [==============================] - 4s 56ms/step - loss: 0.6235 - acc: 0.8206 - val_loss: 1.0495 - val_acc: 0.7279\n",
            "Epoch 32/120\n",
            "80/80 [==============================] - 4s 55ms/step - loss: 0.4044 - acc: 0.8739 - val_loss: 0.9841 - val_acc: 0.7509\n",
            "Epoch 33/120\n",
            "80/80 [==============================] - 4s 53ms/step - loss: 0.4154 - acc: 0.8745 - val_loss: 0.9884 - val_acc: 0.7588\n",
            "Epoch 34/120\n",
            "80/80 [==============================] - 4s 55ms/step - loss: 0.3563 - acc: 0.8969 - val_loss: 1.4800 - val_acc: 0.6661\n",
            "Epoch 35/120\n",
            "80/80 [==============================] - 4s 54ms/step - loss: 0.3740 - acc: 0.8895 - val_loss: 1.0242 - val_acc: 0.7730\n",
            "Epoch 36/120\n",
            "80/80 [==============================] - 4s 55ms/step - loss: 0.2858 - acc: 0.9171 - val_loss: 1.0749 - val_acc: 0.7641\n",
            "Epoch 37/120\n",
            "80/80 [==============================] - 4s 55ms/step - loss: 0.2496 - acc: 0.9267 - val_loss: 1.0797 - val_acc: 0.7853\n"
          ]
        }
      ]
    },
    {
      "cell_type": "code",
      "source": [
        "output_test = model.predict(x_test)\n",
        "test_casses = np.argmax(output_test, axis=-1)\n",
        "print(\"test accuracy:\", np.mean(test_casses == y_test))"
      ],
      "metadata": {
        "colab": {
          "base_uri": "https://localhost:8080/"
        },
        "id": "t6im6TiIFoxR",
        "outputId": "69179773-c9cf-4585-c76e-cb8b6ba9a55a"
      },
      "execution_count": null,
      "outputs": [
        {
          "output_type": "stream",
          "name": "stdout",
          "text": [
            "236/236 [==============================] - 4s 16ms/step\n",
            "test accuracy: 0.7031332979288369\n"
          ]
        }
      ]
    },
    {
      "cell_type": "code",
      "source": [
        "plt.plot(history.history['acc'], label=\"Training acc\")\n",
        "plt.plot(history.history['val_acc'], label =\"Validation acc\")\n",
        "plt.title(\"accuracy of model\")\n",
        "plt.ylabel(\"Accuracy\")\n",
        "plt.ylabel(\"Epoch\")\n",
        "plt.legend()\n",
        "plt.show()"
      ],
      "metadata": {
        "colab": {
          "base_uri": "https://localhost:8080/",
          "height": 281
        },
        "id": "fTPdB3WsFrc0",
        "outputId": "a20cc9b3-9be4-4de4-a14e-fd224a71c54e"
      },
      "execution_count": null,
      "outputs": [
        {
          "output_type": "display_data",
          "data": {
            "text/plain": [
              "<Figure size 432x288 with 1 Axes>"
            ],
            "image/png": "[encoded data removed]"
          },
          "metadata": {
            "needs_background": "light"
          }
        }
      ]
    },
    {
      "cell_type": "code",
      "source": [
        "plt.plot(history.history['loss'], label=\"Training loss\")\n",
        "plt.plot(history.history['val_loss'], label =\"Validation loss\")\n",
        "plt.title(\"loss of model\")\n",
        "plt.ylabel(\"Loss\")\n",
        "plt.ylabel(\"Epoch\")\n",
        "plt.legend()\n",
        "plt.show()"
      ],
      "metadata": {
        "colab": {
          "base_uri": "https://localhost:8080/",
          "height": 281
        },
        "id": "i6cicDe1Fsh2",
        "outputId": "d142eef8-3a64-461a-8554-f0533337300f"
      },
      "execution_count": null,
      "outputs": [
        {
          "output_type": "display_data",
          "data": {
            "text/plain": [
              "<Figure size 432x288 with 1 Axes>"
            ],
            "image/png": "[encoded data removed]"
          },
          "metadata": {
            "needs_background": "light"
          }
        }
      ]
    },
    {
      "cell_type": "code",
      "source": [
        "model = Sequential()\n",
        "model.add(pretrained_embedding_layer);\n",
        "model.add(LSTM(64)) ## RECURRENT DROPOUT\n",
        "model.add(Flatten());    \n",
        "model.add(Dropout(0.4));  ##search the space for size and not to add DROPOUT after LSTM\n",
        "model.add(Dense(64, activation='relu')); \n",
        "model.add(Dropout(0.4));\n",
        "model.add(Dense(N_CLASSES, activation='softmax'));       \n",
        "model.summary() \n",
        "\n",
        "\n",
        "model.layers[1].trainable=True"
      ],
      "metadata": {
        "colab": {
          "base_uri": "https://localhost:8080/"
        },
        "id": "TVrpbOLkGLeG",
        "outputId": "bcc92c8c-907c-4087-88b4-c8a881ab3e34"
      },
      "execution_count": null,
      "outputs": [
        {
          "output_type": "stream",
          "name": "stdout",
          "text": [
            "Model: \"sequential_12\"\n",
            "_________________________________________________________________\n",
            " Layer (type)                Output Shape              Param #   \n",
            "=================================================================\n",
            " embedding_4 (Embedding)     (None, 1000, 50)          1000000   \n",
            "                                                                 \n",
            " lstm_3 (LSTM)               (None, 64)                29440     \n",
            "                                                                 \n",
            " flatten_9 (Flatten)         (None, 64)                0         \n",
            "                                                                 \n",
            " dropout_9 (Dropout)         (None, 64)                0         \n",
            "                                                                 \n",
            " dense_22 (Dense)            (None, 64)                4160      \n",
            "                                                                 \n",
            " dropout_10 (Dropout)        (None, 64)                0         \n",
            "                                                                 \n",
            " dense_23 (Dense)            (None, 20)                1300      \n",
            "                                                                 \n",
            "=================================================================\n",
            "Total params: 1,034,900\n",
            "Trainable params: 1,034,900\n",
            "Non-trainable params: 0\n",
            "_________________________________________________________________\n"
          ]
        }
      ]
    },
    {
      "cell_type": "code",
      "source": [
        "model.compile(loss='categorical_crossentropy',\n",
        "              optimizer='adam', metrics=['acc'])"
      ],
      "metadata": {
        "id": "6CMBMzsTGYlc"
      },
      "execution_count": null,
      "outputs": []
    },
    {
      "cell_type": "code",
      "source": [
        "history=model.fit(x_train, y_train, validation_split=0.1,\n",
        "          epochs=120, batch_size=128, callbacks=callbacks)"
      ],
      "metadata": {
        "colab": {
          "base_uri": "https://localhost:8080/"
        },
        "id": "ZPaMmBVAGhFD",
        "outputId": "93a6c79a-ca12-47dc-c051-a08fe4c4906a"
      },
      "execution_count": null,
      "outputs": [
        {
          "output_type": "stream",
          "name": "stdout",
          "text": [
            "Epoch 1/120\n",
            "80/80 [==============================] - 7s 70ms/step - loss: 2.7498 - acc: 0.1752 - val_loss: 2.2016 - val_acc: 0.3737\n",
            "Epoch 2/120\n",
            "80/80 [==============================] - 6s 70ms/step - loss: 1.7669 - acc: 0.4317 - val_loss: 1.4883 - val_acc: 0.5274\n",
            "Epoch 3/120\n",
            "80/80 [==============================] - 6s 75ms/step - loss: 1.1769 - acc: 0.6045 - val_loss: 1.2251 - val_acc: 0.6413\n",
            "Epoch 4/120\n",
            "80/80 [==============================] - 5s 59ms/step - loss: 1.1970 - acc: 0.6246 - val_loss: 1.2565 - val_acc: 0.6281\n",
            "Epoch 5/120\n",
            "80/80 [==============================] - 4s 56ms/step - loss: 0.8991 - acc: 0.7131 - val_loss: 1.2240 - val_acc: 0.6422\n",
            "Epoch 6/120\n",
            "80/80 [==============================] - 4s 55ms/step - loss: 0.8199 - acc: 0.7430 - val_loss: 1.1532 - val_acc: 0.6643\n",
            "Epoch 7/120\n",
            "80/80 [==============================] - 4s 56ms/step - loss: 0.6263 - acc: 0.8068 - val_loss: 1.0725 - val_acc: 0.7182\n",
            "Epoch 8/120\n",
            "80/80 [==============================] - 4s 56ms/step - loss: 0.5022 - acc: 0.8532 - val_loss: 1.2029 - val_acc: 0.7085\n",
            "Epoch 9/120\n",
            "80/80 [==============================] - 4s 56ms/step - loss: 1.1812 - acc: 0.7018 - val_loss: 1.6850 - val_acc: 0.5345\n",
            "Epoch 10/120\n",
            "80/80 [==============================] - 4s 55ms/step - loss: 0.9676 - acc: 0.6947 - val_loss: 1.1930 - val_acc: 0.6608\n",
            "Epoch 11/120\n",
            "80/80 [==============================] - 4s 54ms/step - loss: 0.5698 - acc: 0.8300 - val_loss: 1.0082 - val_acc: 0.7350\n",
            "Epoch 12/120\n",
            "80/80 [==============================] - 4s 55ms/step - loss: 0.4260 - acc: 0.8765 - val_loss: 1.0453 - val_acc: 0.7527\n",
            "Epoch 13/120\n",
            "80/80 [==============================] - 4s 55ms/step - loss: 0.3618 - acc: 0.9023 - val_loss: 1.0252 - val_acc: 0.7615\n",
            "Epoch 14/120\n",
            "80/80 [==============================] - 4s 55ms/step - loss: 0.3059 - acc: 0.9165 - val_loss: 1.0361 - val_acc: 0.7747\n",
            "Epoch 15/120\n",
            "80/80 [==============================] - 4s 54ms/step - loss: 0.3250 - acc: 0.9126 - val_loss: 1.1128 - val_acc: 0.7677\n",
            "Epoch 16/120\n",
            "80/80 [==============================] - 4s 54ms/step - loss: 0.2956 - acc: 0.9203 - val_loss: 1.0664 - val_acc: 0.7659\n",
            "Epoch 17/120\n",
            "80/80 [==============================] - 5s 59ms/step - loss: 0.2471 - acc: 0.9352 - val_loss: 1.0528 - val_acc: 0.7836\n",
            "Epoch 18/120\n",
            "80/80 [==============================] - 4s 54ms/step - loss: 0.2116 - acc: 0.9430 - val_loss: 1.1100 - val_acc: 0.7853\n",
            "Epoch 19/120\n",
            "80/80 [==============================] - 4s 54ms/step - loss: 0.2159 - acc: 0.9443 - val_loss: 1.3370 - val_acc: 0.7650\n",
            "Epoch 20/120\n",
            "80/80 [==============================] - 4s 54ms/step - loss: 0.2504 - acc: 0.9351 - val_loss: 1.1753 - val_acc: 0.7668\n",
            "Epoch 21/120\n",
            "80/80 [==============================] - 4s 56ms/step - loss: 0.1829 - acc: 0.9503 - val_loss: 1.2011 - val_acc: 0.7747\n"
          ]
        }
      ]
    },
    {
      "cell_type": "code",
      "source": [
        "output_test = model.predict(x_test)\n",
        "test_casses = np.argmax(output_test, axis=-1)\n",
        "print(\"test accuracy:\", np.mean(test_casses == y_test))"
      ],
      "metadata": {
        "colab": {
          "base_uri": "https://localhost:8080/"
        },
        "id": "2jLzHQZxGluh",
        "outputId": "2aa6a418-c382-4935-eb2a-fc2451eafe28"
      },
      "execution_count": null,
      "outputs": [
        {
          "output_type": "stream",
          "name": "stdout",
          "text": [
            "236/236 [==============================] - 4s 15ms/step\n",
            "test accuracy: 0.7100371747211895\n"
          ]
        }
      ]
    },
    {
      "cell_type": "code",
      "source": [
        "plt.plot(history.history['acc'], label=\"Training acc\")\n",
        "plt.plot(history.history['val_acc'], label =\"Validation acc\")\n",
        "plt.title(\"accuracy of model\")\n",
        "plt.ylabel(\"Accuracy\")\n",
        "plt.ylabel(\"Epoch\")\n",
        "plt.legend()\n",
        "plt.show()"
      ],
      "metadata": {
        "colab": {
          "base_uri": "https://localhost:8080/",
          "height": 281
        },
        "id": "1ecpdqVtHLKC",
        "outputId": "4f2deb09-7fc1-4768-eee8-2521a413fc28"
      },
      "execution_count": null,
      "outputs": [
        {
          "output_type": "display_data",
          "data": {
            "text/plain": [
              "<Figure size 432x288 with 1 Axes>"
            ],
            "image/png": "[encoded data removed]"
          },
          "metadata": {
            "needs_background": "light"
          }
        }
      ]
    },
    {
      "cell_type": "code",
      "source": [
        "plt.plot(history.history['loss'], label=\"Training loss\")\n",
        "plt.plot(history.history['val_loss'], label =\"Validation loss\")\n",
        "plt.title(\"loss of model\")\n",
        "plt.ylabel(\"Loss\")\n",
        "plt.ylabel(\"Epoch\")\n",
        "plt.legend()\n",
        "plt.show()"
      ],
      "metadata": {
        "colab": {
          "base_uri": "https://localhost:8080/",
          "height": 281
        },
        "id": "xXa-BQBcHQYw",
        "outputId": "af8f1367-911d-4d23-f6e8-36fd6cbc0c48"
      },
      "execution_count": null,
      "outputs": [
        {
          "output_type": "display_data",
          "data": {
            "text/plain": [
              "<Figure size 432x288 with 1 Axes>"
            ],
            "image/png": "[encoded data removed]"
          },
          "metadata": {
            "needs_background": "light"
          }
        }
      ]
    }
  ],
  "metadata": {
    "accelerator": "GPU",
    "colab": {
      "provenance": [],
      "authorship_tag": "ABX9TyP57cz9oumbc+QcE2MlcpJc",
      "include_colab_link": true
    },
    "gpuClass": "standard",
    "kernelspec": {
      "display_name": "Python 3",
      "name": "python3"
    },
    "language_info": {
      "name": "python"
    }
  },
  "nbformat": 4,
  "nbformat_minor": 0
}